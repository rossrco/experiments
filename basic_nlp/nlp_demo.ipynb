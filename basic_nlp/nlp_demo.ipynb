{
 "cells": [
  {
   "cell_type": "markdown",
   "metadata": {},
   "source": [
    "# What Is NLP?\n",
    "Natural Language Processing (NLP) is a set of methods for extracting information from text. But is text not already data and what would we extract? It is data, however it is represented as a continuous string of text like the one you are reading right now. The issue here is that statistics use numbers as input. So how do we make numbers out of text? Usually we break down the text into words. We can then one-hot encode the words and build a binary matrix. The columns of the matrix are the tokens, while the rows are the texts. We can then use the binary matrix as input to a range of numeric functions.\n",
    "\n",
    "# Tokenization\n",
    "Let us download a dataset of news articles from 20 news groups."
   ]
  },
  {
   "cell_type": "code",
   "execution_count": 150,
   "metadata": {},
   "outputs": [],
   "source": [
    "from sklearn.datasets import fetch_20newsgroups\n",
    "news = fetch_20newsgroups(subset='all', remove=('headers', 'footers', 'quotes'))"
   ]
  },
  {
   "cell_type": "markdown",
   "metadata": {},
   "source": [
    "We can select a single news article and print its contents:"
   ]
  },
  {
   "cell_type": "code",
   "execution_count": 151,
   "metadata": {},
   "outputs": [
    {
     "name": "stdout",
     "output_type": "stream",
     "text": [
      "\n",
      "\n",
      "I am sure some bashers of Pens fans are pretty confused about the lack\n",
      "of any kind of posts about the recent Pens massacre of the Devils. Actually,\n",
      "I am  bit puzzled too and a bit relieved. However, I am going to put an end\n",
      "to non-PIttsburghers' relief with a bit of praise for the Pens. Man, they\n",
      "are killing those Devils worse than I thought. Jagr just showed you why\n",
      "he is much better than his regular season stats. He is also a lot\n",
      "fo fun to watch in the playoffs. Bowman should let JAgr have a lot of\n",
      "fun in the next couple of games since the Pens are going to beat the pulp out of Jersey anyway. I was very disappointed not to see the Islanders lose the final\n",
      "regular season game.          PENS RULE!!!\n",
      "\n",
      "\n"
     ]
    }
   ],
   "source": [
    "print(news.data[0])"
   ]
  },
  {
   "cell_type": "code",
   "execution_count": 152,
   "metadata": {},
   "outputs": [
    {
     "data": {
      "text/plain": [
       "'\\nregular season game.          PENS RULE!!!\\n\\n'"
      ]
     },
     "execution_count": 152,
     "metadata": {},
     "output_type": "execute_result"
    }
   ],
   "source": [
    "news.data[0][-45:]"
   ]
  },
  {
   "cell_type": "code",
   "execution_count": 153,
   "metadata": {},
   "outputs": [
    {
     "data": {
      "text/plain": [
       "['regular', 'season', 'game.', 'PENS', 'RULE!!!']"
      ]
     },
     "execution_count": 153,
     "metadata": {},
     "output_type": "execute_result"
    }
   ],
   "source": [
    "news.data[0].split()[-5:]"
   ]
  },
  {
   "cell_type": "markdown",
   "metadata": {},
   "source": [
    "However, note that the `game.` token also includes the punctuation at the end. The `RULE!!!` token is capitalized and includes the punctuation. Capitalization carries its own set of probles as it can make several distinct tokens out of the same sema. We could turn to another basic method for splitting text - regular expressions:"
   ]
  },
  {
   "cell_type": "code",
   "execution_count": 154,
   "metadata": {},
   "outputs": [],
   "source": [
    "import re"
   ]
  },
  {
   "cell_type": "code",
   "execution_count": 155,
   "metadata": {},
   "outputs": [],
   "source": [
    "def tokenize_regex(regex, text):\n",
    "    return [t.lower() for t in re.split(regex, text) if t != '']"
   ]
  },
  {
   "cell_type": "code",
   "execution_count": 156,
   "metadata": {},
   "outputs": [
    {
     "data": {
      "text/plain": [
       "['regular', 'season', 'game', 'pens', 'rule']"
      ]
     },
     "execution_count": 156,
     "metadata": {},
     "output_type": "execute_result"
    }
   ],
   "source": [
    "punct_whitesp = re.compile(r'\\s|[\\.\\(\\)\\?\\!]+')\n",
    "tokenize_regex(punct_whitesp, news.data[0])[-5:]"
   ]
  },
  {
   "cell_type": "markdown",
   "metadata": {},
   "source": [
    "That looks even better. Note that we also made all tokens in lowercase such that `RULE` will match with `rule`. However, in reality, texts are rarely so clean. They contain:\n",
    "\n",
    "* Special characters;\n",
    "* Random new lines, tabs or other whitespace characters;\n",
    "* Improperly scanned characters (e.g. '§' instead of 'S');\n",
    "* Foreign words;\n",
    "* Tpyos;\n",
    "\n",
    "That's why an extensive work must be performed to clean the text and tokenize it. The tokenization methods may also differ depending on the subject matter, the types of texts and the qunatity of documents. Sometimes this task constitutes the bulk of the NLP work.\n",
    "\n",
    "# Stemming\n",
    "look at the following tokens: `go`, `going`. They represent different strings, but have the same meaning. What can we do about this?"
   ]
  },
  {
   "cell_type": "code",
   "execution_count": 157,
   "metadata": {},
   "outputs": [
    {
     "name": "stdout",
     "output_type": "stream",
     "text": [
      "The initial for is: go, but after stemming, it becomes: go\n",
      "The initial for is: going, but after stemming, it becomes: go\n"
     ]
    }
   ],
   "source": [
    "porter = nltk.PorterStemmer()\n",
    "for token in ['go', 'going']:\n",
    "    print(f'The initial for is: {token}, but after stemming, it becomes: {porter.stem(token)}')"
   ]
  },
  {
   "cell_type": "markdown",
   "metadata": {},
   "source": [
    "We can use this technique for text normalization if we want to focus on the meaning rather than the morphology of the text. The usefullness of the stemming technique is proportional to the text size and the morphological complexity.\n",
    "\n",
    "# One-Hot Encoding\n",
    "We can take our news dataset and build a matrix. The rows of the matrix will represent the various news articles, while the columns will represent a one-hot encoding of all the tokens for all news articles."
   ]
  },
  {
   "cell_type": "code",
   "execution_count": 86,
   "metadata": {},
   "outputs": [],
   "source": [
    "from sklearn.feature_extraction.text import CountVectorizer"
   ]
  },
  {
   "cell_type": "code",
   "execution_count": 216,
   "metadata": {},
   "outputs": [],
   "source": [
    "count_vectorizer = CountVectorizer(ngram_range=(1, 1), token_pattern = r'[A-z]+', strip_accents='ascii', lowercase=True, stop_words='english')"
   ]
  },
  {
   "cell_type": "code",
   "execution_count": 217,
   "metadata": {},
   "outputs": [],
   "source": [
    "vectorized_text = count_vectorizer.fit_transform(news.data)"
   ]
  },
  {
   "cell_type": "code",
   "execution_count": 218,
   "metadata": {},
   "outputs": [],
   "source": [
    "first_article = pd.DataFrame(vectorized_text.getrow(0).todense(0), columns=count_vectorizer.get_feature_names()).loc[0]"
   ]
  },
  {
   "cell_type": "markdown",
   "metadata": {},
   "source": [
    "Let us look at the top 10 tokens from the news article:"
   ]
  },
  {
   "cell_type": "code",
   "execution_count": 223,
   "metadata": {},
   "outputs": [],
   "source": [
    "import matplotlib.pyplot as plt\n",
    "# plt.style.use(['dark_background'])"
   ]
  },
  {
   "cell_type": "code",
   "execution_count": 225,
   "metadata": {},
   "outputs": [
    {
     "data": {
      "image/png": "[encoded data removed]",
      "text/plain": [
       "<Figure size 720x432 with 1 Axes>"
      ]
     },
     "metadata": {},
     "output_type": "display_data"
    }
   ],
   "source": [
    "to_plot = first_article[first_article >= 1].sort_values()[-10:]\n",
    "fig = plt.figure(figsize=(10, 6))\n",
    "plt.barh(to_plot.index, to_plot.values)\n",
    "plt.title('Frequency Distribution of the Top 10 Tokens')\n",
    "plt.show()"
   ]
  },
  {
   "cell_type": "markdown",
   "metadata": {},
   "source": [
    "As we can see, we can gain some insight from the most frequent terms in a text: `pens`, `jagr` and `season` imply that the article is about a sports match. In addition, we can also derive the literary complexity of the text by dividing the total number of tokens by the number of unique tokens. Our intuition here is that different genres of texts have different literary complexities (e.g. a simple note has a different complexity than a science article)."
   ]
  },
  {
   "cell_type": "code",
   "execution_count": 234,
   "metadata": {},
   "outputs": [
    {
     "name": "stdout",
     "output_type": "stream",
     "text": [
      "The literary complexity of the article is: 20.31%\n"
     ]
    }
   ],
   "source": [
    "to_plot = first_article[first_article >= 1]\n",
    "print(f'The literary complexity of the article is: {(1 - (len(to_plot) / to_plot.sum())):0.2%}')"
   ]
  },
  {
   "cell_type": "code",
   "execution_count": 235,
   "metadata": {},
   "outputs": [],
   "source": [
    "# plt.plot(x, y, \"b|\", scalex=0.1)\n",
    "# plt.yticks(list(range(len(words))), words, color=\"b\")\n",
    "# plt.ylim(-1, len(words))\n",
    "# plt.title('Dispersion Plot')\n",
    "# plt.xlabel(\"Word Offset\")\n",
    "# plt.show()"
   ]
  },
  {
   "cell_type": "markdown",
   "metadata": {},
   "source": [
    "# TFIDF\n",
    "Suppose we have a group of texts. We want to figure out what are the important terms in each text. That will allow us to infer what the text is about. How can we achieve that? Intuition tells us that terms that are generally rare throughout a corpus (a group of texts), but are frequent in a particular text could be the most important. We can express this intuition as:\n",
    "\n",
    "$tfidf(t, d, D) = tf(t, d) idf(t, D)$\n",
    "\n",
    "Where $tf(t, d)$ is the term frequency for a single document. It is defined as:\n",
    "\n",
    "$tf(t, d) = 0.5 + 0.5\\frac{f(t, d)}{max \\{f_{t', d} : t' \\in d \\}}$\n",
    "\n",
    "The inverse corpus document frequency $idf(t, D)$ is defined as:\n",
    "\n",
    "$idf(t, D) =  log \\frac{N}{|\\{d \\in D : t \\ d\\}|}$\n",
    "\n",
    "Hence the etymology of the name - term frequency inverse document frequency (TFIDF). Let's appy this method to our text:"
   ]
  },
  {
   "cell_type": "code",
   "execution_count": 287,
   "metadata": {},
   "outputs": [],
   "source": [
    "from sklearn.feature_extraction.text import TfidfTransformer"
   ]
  },
  {
   "cell_type": "code",
   "execution_count": 288,
   "metadata": {},
   "outputs": [],
   "source": [
    "tfidf_transformer = TfidfTransformer()"
   ]
  },
  {
   "cell_type": "code",
   "execution_count": 289,
   "metadata": {},
   "outputs": [],
   "source": [
    "tfidf = tfidf_transformer.fit_transform(vectorized_text)"
   ]
  },
  {
   "cell_type": "markdown",
   "metadata": {},
   "source": [
    "We can now show the 3 most important terms for each text:"
   ]
  },
  {
   "cell_type": "code",
   "execution_count": 294,
   "metadata": {},
   "outputs": [],
   "source": [
    "from collections import defaultdict\n",
    "tfidf_result = defaultdict(list)\n",
    "\n",
    "top_n = 3\n",
    "\n",
    "for i, line in enumerate(news.data[:top_n]):\n",
    "    tfidf_result['doc'].append(line)\n",
    "    for j in range(top_n):\n",
    "        feature_names = count_vectorizer.get_feature_names()\n",
    "        term_df = test_df = pd.DataFrame(tfidf.getrow(i).todense(),\n",
    "                                         columns=feature_names)\n",
    "        term = term_df.loc[0].sort_values(ascending=False).reset_index()\n",
    "        tfidf_result[f'term_{j+1}'].append(term.loc[j].values[0])\n",
    "        tfidf_result[f'importance_{j+1}'].append(term.loc[j].values[1])"
   ]
  },
  {
   "cell_type": "code",
   "execution_count": 295,
   "metadata": {},
   "outputs": [
    {
     "data": {
      "text/html": [
       "<div>\n",
       "<style scoped>\n",
       "    .dataframe tbody tr th:only-of-type {\n",
       "        vertical-align: middle;\n",
       "    }\n",
       "\n",
       "    .dataframe tbody tr th {\n",
       "        vertical-align: top;\n",
       "    }\n",
       "\n",
       "    .dataframe thead th {\n",
       "        text-align: right;\n",
       "    }\n",
       "</style>\n",
       "<table border=\"1\" class=\"dataframe\">\n",
       "  <thead>\n",
       "    <tr style=\"text-align: right;\">\n",
       "      <th></th>\n",
       "      <th>doc</th>\n",
       "      <th>term_1</th>\n",
       "      <th>importance_1</th>\n",
       "      <th>term_2</th>\n",
       "      <th>importance_2</th>\n",
       "      <th>term_3</th>\n",
       "      <th>importance_3</th>\n",
       "    </tr>\n",
       "  </thead>\n",
       "  <tbody>\n",
       "    <tr>\n",
       "      <th>0</th>\n",
       "      <td>\\n\\nI am sure some bashers of Pens fans are pr...</td>\n",
       "      <td>pens</td>\n",
       "      <td>0.548249</td>\n",
       "      <td>jagr</td>\n",
       "      <td>0.250491</td>\n",
       "      <td>devils</td>\n",
       "      <td>0.218444</td>\n",
       "    </tr>\n",
       "    <tr>\n",
       "      <th>1</th>\n",
       "      <td>My brother is in the market for a high-perform...</td>\n",
       "      <td>pro</td>\n",
       "      <td>0.293923</td>\n",
       "      <td>bus</td>\n",
       "      <td>0.289536</td>\n",
       "      <td>farenheit</td>\n",
       "      <td>0.281321</td>\n",
       "    </tr>\n",
       "    <tr>\n",
       "      <th>2</th>\n",
       "      <td>\\n\\n\\n\\n\\tFinally you said what you dream abou...</td>\n",
       "      <td>azerbadjan</td>\n",
       "      <td>0.355673</td>\n",
       "      <td>weapons</td>\n",
       "      <td>0.279686</td>\n",
       "      <td>armenians</td>\n",
       "      <td>0.231632</td>\n",
       "    </tr>\n",
       "  </tbody>\n",
       "</table>\n",
       "</div>"
      ],
      "text/plain": [
       "                                                 doc      term_1  \\\n",
       "0  \\n\\nI am sure some bashers of Pens fans are pr...        pens   \n",
       "1  My brother is in the market for a high-perform...         pro   \n",
       "2  \\n\\n\\n\\n\\tFinally you said what you dream abou...  azerbadjan   \n",
       "\n",
       "   importance_1   term_2  importance_2     term_3  importance_3  \n",
       "0      0.548249     jagr      0.250491     devils      0.218444  \n",
       "1      0.293923      bus      0.289536  farenheit      0.281321  \n",
       "2      0.355673  weapons      0.279686  armenians      0.231632  "
      ]
     },
     "execution_count": 295,
     "metadata": {},
     "output_type": "execute_result"
    }
   ],
   "source": [
    "pd.DataFrame(tfidf_result)"
   ]
  },
  {
   "cell_type": "markdown",
   "metadata": {},
   "source": [
    "That is an even better way to gain insight into the semantics of each text. Let us look at our original example (the article about the sports match). In this case, the 3 most important terms are `pens`, `jagr` and `devils` - the names of the competing teams and the university to which the host belongs. This is a much better result than the one achieved by simple term frequency.\n",
    "\n",
    "We can use the importance of the tokens from all texts in order to group them by semantics. This will allow us to see articles belonging to the same category or topic.\n",
    "\n",
    "# K-Means Clustering\n",
    "We can use an unsupervised learning algorithm to automatically group texts by their meaning."
   ]
  },
  {
   "cell_type": "code",
   "execution_count": null,
   "metadata": {},
   "outputs": [],
   "source": []
  },
  {
   "cell_type": "code",
   "execution_count": null,
   "metadata": {},
   "outputs": [],
   "source": []
  },
  {
   "cell_type": "code",
   "execution_count": null,
   "metadata": {},
   "outputs": [],
   "source": []
  },
  {
   "cell_type": "code",
   "execution_count": null,
   "metadata": {},
   "outputs": [],
   "source": []
  },
  {
   "cell_type": "code",
   "execution_count": null,
   "metadata": {},
   "outputs": [],
   "source": []
  },
  {
   "cell_type": "markdown",
   "metadata": {},
   "source": [
    "# Word2Vec"
   ]
  },
  {
   "cell_type": "code",
   "execution_count": null,
   "metadata": {},
   "outputs": [],
   "source": []
  },
  {
   "cell_type": "code",
   "execution_count": null,
   "metadata": {},
   "outputs": [],
   "source": []
  },
  {
   "cell_type": "code",
   "execution_count": null,
   "metadata": {},
   "outputs": [],
   "source": []
  }
 ],
 "metadata": {
  "kernelspec": {
   "display_name": "Python 3",
   "language": "python",
   "name": "python3"
  },
  "language_info": {
   "codemirror_mode": {
    "name": "ipython",
    "version": 3
   },
   "file_extension": ".py",
   "mimetype": "text/x-python",
   "name": "python",
   "nbconvert_exporter": "python",
   "pygments_lexer": "ipython3",
   "version": "3.7.1"
  }
 },
 "nbformat": 4,
 "nbformat_minor": 2
}
