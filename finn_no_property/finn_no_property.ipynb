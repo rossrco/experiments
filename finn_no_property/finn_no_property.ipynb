{
 "cells": [
  {
   "cell_type": "code",
   "execution_count": 180,
   "metadata": {},
   "outputs": [],
   "source": [
    "import urllib3\n",
    "from bs4 import BeautifulSoup\n",
    "import json\n",
    "import re"
   ]
  },
  {
   "cell_type": "code",
   "execution_count": 181,
   "metadata": {},
   "outputs": [],
   "source": [
    "property_page = 'https://www.finn.no/realestate/homes/search.html?location=0.20061&page=0'"
   ]
  },
  {
   "cell_type": "code",
   "execution_count": 182,
   "metadata": {},
   "outputs": [
    {
     "name": "stderr",
     "output_type": "stream",
     "text": [
      "C:\\Users\\rossr\\Anaconda3\\lib\\site-packages\\urllib3\\connectionpool.py:857: InsecureRequestWarning: Unverified HTTPS request is being made. Adding certificate verification is strongly advised. See: https://urllib3.readthedocs.io/en/latest/advanced-usage.html#ssl-warnings\n",
      "  InsecureRequestWarning)\n"
     ]
    }
   ],
   "source": [
    "http = urllib3.PoolManager()\n",
    "page = http.request('GET', property_page)\n",
    "soup = BeautifulSoup(page.data.decode('utf-8'))"
   ]
  },
  {
   "cell_type": "code",
   "execution_count": 183,
   "metadata": {},
   "outputs": [],
   "source": [
    "ads = soup.findAll('div', {'class': 'ads__unit__content'})"
   ]
  },
  {
   "cell_type": "code",
   "execution_count": 184,
   "metadata": {},
   "outputs": [],
   "source": [
    "def get_int_from_tag(tag):\n",
    "    return int(''.join(re.findall(r'\\d', tag.string)))"
   ]
  },
  {
   "cell_type": "code",
   "execution_count": 203,
   "metadata": {},
   "outputs": [],
   "source": [
    "for _ad in ads[:5]:\n",
    "    size, price = _ad.find('p', {'class' : 'ads__unit__content__keys'}).find_all('span')\n",
    "    address = _ad.find('span', {'class' : 'ads__unit__content__details'}).find('span').string\n",
    "    ad_details = [_s.string for _s in _ad.find('span', {'class' : 'u-float-left'}).find_all('span')]\n",
    "    ad_description = _ad.find('a').string.strip()\n",
    "    ad_id = int(re.search(r'(.+)(data-finnkode=\")(\\d+)', ad_link, re.I)[3])"
   ]
  },
  {
   "cell_type": "code",
   "execution_count": null,
   "metadata": {},
   "outputs": [],
   "source": []
  }
 ],
 "metadata": {
  "kernelspec": {
   "display_name": "Python 3",
   "language": "python",
   "name": "python3"
  },
  "language_info": {
   "codemirror_mode": {
    "name": "ipython",
    "version": 3
   },
   "file_extension": ".py",
   "mimetype": "text/x-python",
   "name": "python",
   "nbconvert_exporter": "python",
   "pygments_lexer": "ipython3",
   "version": "3.7.0"
  }
 },
 "nbformat": 4,
 "nbformat_minor": 2
}
