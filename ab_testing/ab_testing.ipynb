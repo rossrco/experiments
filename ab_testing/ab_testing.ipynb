{
 "cells": [
  {
   "cell_type": "code",
   "execution_count": 1,
   "metadata": {},
   "outputs": [],
   "source": [
    "def get_significance(n_a, n_b, mean_a, mean_b, std_a, std_b):\n",
    "    std_sampling = sqrt((std_a/sqrt(n_a))**2 + (std_b/sqrt(n_b))**2)\n",
    "    mean_delta = abs(mean_a - mean_b)\n",
    "    p = stats.norm().cdf(x=-mean_delta/std_sampling) * 2\n",
    "    return p\n",
    " \n",
    "\n",
    "def get_confidence_intervals(n_a, n_b, mean_a, mean_b, std_a, std_b, alpha=0.05):\n",
    "    std_sampling = sqrt((std_a/sqrt(n_a))**2 + (std_b/sqrt(n_b))**2)\n",
    "    mean_delta = abs(mean_a - mean_b)\n",
    "    crit_val = stats.norm().ppf(q=(1-alpha)/2) * std_sampling\n",
    "    conf_lower = mean_delta - crit_val\n",
    "    conf_upper = mean_delta + crit_val\n",
    "    return conf_lower, conf_upper\n",
    " \n",
    "\n",
    "def get_required_n_samples(std_a, std_b, mean_a, mean_b, alpha=0.05, beta=0.2):\n",
    "    z_alpha = stats.norm().ppf(q=(1-alpha)/2)\n",
    "    z_beta = stats.norm().ppf(q=1-beta)\n",
    "    delta = abs(mean_a - mean_b)\n",
    "    n_samples = int(((z_alpha*std_a) + (z_beta*std_b))**2 / delta**2)\n",
    "    return n_samples"
   ]
  },
  {
   "cell_type": "code",
   "execution_count": null,
   "metadata": {},
   "outputs": [],
   "source": []
  }
 ],
 "metadata": {
  "kernelspec": {
   "display_name": "Python 3",
   "language": "python",
   "name": "python3"
  },
  "language_info": {
   "codemirror_mode": {
    "name": "ipython",
    "version": 3
   },
   "file_extension": ".py",
   "mimetype": "text/x-python",
   "name": "python",
   "nbconvert_exporter": "python",
   "pygments_lexer": "ipython3",
   "version": "3.7.6"
  },
  "widgets": {
   "application/vnd.jupyter.widget-state+json": {
    "state": {},
    "version_major": 2,
    "version_minor": 0
   }
  }
 },
 "nbformat": 4,
 "nbformat_minor": 4
}
