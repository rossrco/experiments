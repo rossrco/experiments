{
 "cells": [
  {
   "cell_type": "markdown",
   "metadata": {},
   "source": [
    "# What Is NLP?"
   ]
  },
  {
   "cell_type": "code",
   "execution_count": 109,
   "metadata": {},
   "outputs": [],
   "source": [
    "sample = ['Natural Language Processing (NLP) is a set of methods for extracting information from text.',\n",
    "          \"But isn't text already data and what would we extract?\",\n",
    "          'It is data, however it is represented as a continuous string of text like'\n",
    "          'the one you are reading right now.',\n",
    "          'The issue here is that statistics use numbers as input.',\n",
    "          'So how do we make numbers out of text?',\n",
    "          'Usually we break down the text into words.',\n",
    "          'We can then one-hot encode the words and build a binary matrix.',\n",
    "          'The columns of the matrix are the tokens, while the rows are the texts.',\n",
    "          'We can then use the binary matrix as input to a range of numeric functions.']"
   ]
  },
  {
   "cell_type": "markdown",
   "metadata": {},
   "source": [
    "# Tokenization"
   ]
  },
  {
   "cell_type": "markdown",
   "metadata": {},
   "source": [
    "The most basic form of tokenization is splitting by whitespace:"
   ]
  },
  {
   "cell_type": "code",
   "execution_count": 110,
   "metadata": {},
   "outputs": [
    {
     "data": {
      "text/plain": [
       "['Natural',\n",
       " 'Language',\n",
       " 'Processing',\n",
       " '(NLP)',\n",
       " 'is',\n",
       " 'a',\n",
       " 'set',\n",
       " 'of',\n",
       " 'methods',\n",
       " 'for',\n",
       " 'extracting',\n",
       " 'information',\n",
       " 'from',\n",
       " 'text.']"
      ]
     },
     "execution_count": 110,
     "metadata": {},
     "output_type": "execute_result"
    }
   ],
   "source": [
    "import re\n",
    "\n",
    "sample[0].split()"
   ]
  },
  {
   "cell_type": "markdown",
   "metadata": {},
   "source": [
    "However, note that the `(NLP)` token also includes the parentheses. Also, the `text.` token includes the punctuation at the end. We could turn to another basic method for splitting text - regular expressions:"
   ]
  },
  {
   "cell_type": "code",
   "execution_count": 111,
   "metadata": {},
   "outputs": [],
   "source": [
    "def tokenize_regex(regex, text):\n",
    "    return [t.lower() for t in re.split(regex, text) if t != '']"
   ]
  },
  {
   "cell_type": "code",
   "execution_count": 112,
   "metadata": {},
   "outputs": [
    {
     "data": {
      "text/plain": [
       "['natural',\n",
       " 'language',\n",
       " 'processing',\n",
       " 'nlp',\n",
       " 'is',\n",
       " 'a',\n",
       " 'set',\n",
       " 'of',\n",
       " 'methods',\n",
       " 'for',\n",
       " 'extracting',\n",
       " 'information',\n",
       " 'from',\n",
       " 'text']"
      ]
     },
     "execution_count": 112,
     "metadata": {},
     "output_type": "execute_result"
    }
   ],
   "source": [
    "punct_whitesp = re.compile(r'\\s|[\\.\\(\\)\\?]')\n",
    "tokenize_regex(punct_whitesp, sample[0])"
   ]
  },
  {
   "cell_type": "markdown",
   "metadata": {},
   "source": [
    "That looks even better. Note that we also made all tokens in lowercase such that `Natural` will match with `natural`. However, in reality, texts are rarely so clean. They contain:\n",
    "\n",
    "* Special characters;\n",
    "* Random new lines, tabs or other whitespace characters;\n",
    "* Improperly scanned characters (e.g. '§' instead of 'S');\n",
    "* Foreign words;\n",
    "* Tpyos;\n",
    "\n",
    "Here is one example:"
   ]
  },
  {
   "cell_type": "code",
   "execution_count": 113,
   "metadata": {},
   "outputs": [],
   "source": [
    "import nltk\n",
    "path = nltk.data.find('corpora/unicode_samples/polish-lat2.txt')\n",
    "with open(path, 'r', encoding='latin2') as file:\n",
    "    unicode_sample = file.read()"
   ]
  },
  {
   "cell_type": "code",
   "execution_count": 114,
   "metadata": {},
   "outputs": [
    {
     "name": "stdout",
     "output_type": "stream",
     "text": [
      "b'Pruska Biblioteka Pa\\\\u0144stwowa. Jej dawne zbiory znane pod nazw\\\\u0105\\\\n\"Berlinka\" to skarb kultury i sztuki niemieckiej. Przewiezione przez\\\\nNiemc\\\\xf3w pod koniec II wojny \\\\u015bwiatowej na Dolny \\\\u015al\\\\u0105sk, zosta\\\\u0142y\\\\nodnalezione po 1945 r. na terytorium Polski. Trafi\\\\u0142y do Biblioteki\\\\nJagiello\\\\u0144skiej w Krakowie, obejmuj\\\\u0105 ponad 500 tys. zabytkowych\\\\narchiwali\\\\xf3w, m.in. manuskrypty Goethego, Mozarta, Beethovena, Bacha.\\\\n'\n"
     ]
    }
   ],
   "source": [
    "print(unicode_sample.encode('unicode_escape'))"
   ]
  },
  {
   "cell_type": "markdown",
   "metadata": {},
   "source": [
    "That's why an extensive work must be performed to clean the text and tokenize it. The tokenization methods may also differ depending on the subject matter, the types of texts and the qunatity of documents. Sometimes this task constitutes the bulk of the work (the actual modelling being just the 'cherry on the top' of that linguistic Sunday\n",
    "desert).\n",
    "\n",
    "Once, we have performed tokenization, we can further optimize our array of tokes. Here is how:"
   ]
  },
  {
   "cell_type": "markdown",
   "metadata": {},
   "source": [
    "# Stemming\n",
    "look at the following tokens: `go`, `going`. They represent different strings, but have the same meaning. What can we do about this?\n"
   ]
  },
  {
   "cell_type": "code",
   "execution_count": 115,
   "metadata": {},
   "outputs": [
    {
     "name": "stdout",
     "output_type": "stream",
     "text": [
      "The initial for is: go, but after stemming, it becomes: go\n",
      "The initial for is: going, but after stemming, it becomes: go\n"
     ]
    }
   ],
   "source": [
    "porter = nltk.PorterStemmer()\n",
    "for token in ['go', 'going']:\n",
    "    print(f'The initial for is: {token}, but after stemming, it becomes: {porter.stem(token)}')"
   ]
  },
  {
   "cell_type": "markdown",
   "metadata": {},
   "source": [
    "We can use this technique for text normalization if we want to focus on the meaning rather than the morphology of the text.\n",
    "\n",
    "Let's go back to our initial sample text:"
   ]
  },
  {
   "cell_type": "code",
   "execution_count": 116,
   "metadata": {},
   "outputs": [],
   "source": [
    "stem_example = [tokenize_regex(punct_whitesp, sent) for sent in sample[:2]]"
   ]
  },
  {
   "cell_type": "code",
   "execution_count": 117,
   "metadata": {},
   "outputs": [
    {
     "data": {
      "text/plain": [
       "[['natural',\n",
       "  'language',\n",
       "  'processing',\n",
       "  'nlp',\n",
       "  'is',\n",
       "  'a',\n",
       "  'set',\n",
       "  'of',\n",
       "  'methods',\n",
       "  'for',\n",
       "  'extracting',\n",
       "  'information',\n",
       "  'from',\n",
       "  'text'],\n",
       " ['but',\n",
       "  \"isn't\",\n",
       "  'text',\n",
       "  'already',\n",
       "  'data',\n",
       "  'and',\n",
       "  'what',\n",
       "  'would',\n",
       "  'we',\n",
       "  'extract']]"
      ]
     },
     "execution_count": 117,
     "metadata": {},
     "output_type": "execute_result"
    }
   ],
   "source": [
    "stem_example"
   ]
  },
  {
   "cell_type": "markdown",
   "metadata": {},
   "source": [
    "Before we start using the industry-standard libraries, we can vectorize the tokenized sentences like so:"
   ]
  },
  {
   "cell_type": "code",
   "execution_count": 118,
   "metadata": {},
   "outputs": [],
   "source": [
    "import pandas as pd\n",
    "\n",
    "def count_vectorize(tokenized_text):\n",
    "    columns = set([t for line in tokenized_text for t in line])\n",
    "    line_token_matrix = pd.DataFrame(columns=columns)\n",
    "    for line in tokenized_text:\n",
    "        to_append = pd.DataFrame([[1 if t in line\n",
    "                                   else 0\n",
    "                                   for t in columns]],\n",
    "                                 columns=columns)\n",
    "        line_token_matrix = line_token_matrix.append(to_append,\n",
    "                                                 ignore_index=True)\n",
    "    return line_token_matrix"
   ]
  },
  {
   "cell_type": "code",
   "execution_count": 119,
   "metadata": {},
   "outputs": [],
   "source": [
    "stem_example_matrix = count_vectorize(stem_example)"
   ]
  },
  {
   "cell_type": "code",
   "execution_count": 120,
   "metadata": {},
   "outputs": [
    {
     "data": {
      "text/html": [
       "<div>\n",
       "<style scoped>\n",
       "    .dataframe tbody tr th:only-of-type {\n",
       "        vertical-align: middle;\n",
       "    }\n",
       "\n",
       "    .dataframe tbody tr th {\n",
       "        vertical-align: top;\n",
       "    }\n",
       "\n",
       "    .dataframe thead th {\n",
       "        text-align: right;\n",
       "    }\n",
       "</style>\n",
       "<table border=\"1\" class=\"dataframe\">\n",
       "  <thead>\n",
       "    <tr style=\"text-align: right;\">\n",
       "      <th></th>\n",
       "      <th>a</th>\n",
       "      <th>information</th>\n",
       "      <th>extract</th>\n",
       "      <th>and</th>\n",
       "      <th>set</th>\n",
       "      <th>is</th>\n",
       "      <th>language</th>\n",
       "      <th>data</th>\n",
       "      <th>from</th>\n",
       "      <th>we</th>\n",
       "      <th>...</th>\n",
       "      <th>nlp</th>\n",
       "      <th>processing</th>\n",
       "      <th>of</th>\n",
       "      <th>text</th>\n",
       "      <th>methods</th>\n",
       "      <th>already</th>\n",
       "      <th>isn't</th>\n",
       "      <th>natural</th>\n",
       "      <th>extracting</th>\n",
       "      <th>but</th>\n",
       "    </tr>\n",
       "  </thead>\n",
       "  <tbody>\n",
       "    <tr>\n",
       "      <th>0</th>\n",
       "      <td>1</td>\n",
       "      <td>1</td>\n",
       "      <td>0</td>\n",
       "      <td>0</td>\n",
       "      <td>1</td>\n",
       "      <td>1</td>\n",
       "      <td>1</td>\n",
       "      <td>0</td>\n",
       "      <td>1</td>\n",
       "      <td>0</td>\n",
       "      <td>...</td>\n",
       "      <td>1</td>\n",
       "      <td>1</td>\n",
       "      <td>1</td>\n",
       "      <td>1</td>\n",
       "      <td>1</td>\n",
       "      <td>0</td>\n",
       "      <td>0</td>\n",
       "      <td>1</td>\n",
       "      <td>1</td>\n",
       "      <td>0</td>\n",
       "    </tr>\n",
       "    <tr>\n",
       "      <th>1</th>\n",
       "      <td>0</td>\n",
       "      <td>0</td>\n",
       "      <td>1</td>\n",
       "      <td>1</td>\n",
       "      <td>0</td>\n",
       "      <td>0</td>\n",
       "      <td>0</td>\n",
       "      <td>1</td>\n",
       "      <td>0</td>\n",
       "      <td>1</td>\n",
       "      <td>...</td>\n",
       "      <td>0</td>\n",
       "      <td>0</td>\n",
       "      <td>0</td>\n",
       "      <td>1</td>\n",
       "      <td>0</td>\n",
       "      <td>1</td>\n",
       "      <td>1</td>\n",
       "      <td>0</td>\n",
       "      <td>0</td>\n",
       "      <td>1</td>\n",
       "    </tr>\n",
       "  </tbody>\n",
       "</table>\n",
       "<p>2 rows × 23 columns</p>\n",
       "</div>"
      ],
      "text/plain": [
       "   a information extract and set is language data from we ... nlp processing  \\\n",
       "0  1           1       0   0   1  1        1    0    1  0 ...   1          1   \n",
       "1  0           0       1   1   0  0        0    1    0  1 ...   0          0   \n",
       "\n",
       "  of text methods already isn't natural extracting but  \n",
       "0  1    1       1       0     0       1          1   0  \n",
       "1  0    1       0       1     1       0          0   1  \n",
       "\n",
       "[2 rows x 23 columns]"
      ]
     },
     "execution_count": 120,
     "metadata": {},
     "output_type": "execute_result"
    }
   ],
   "source": [
    "stem_example_matrix"
   ]
  },
  {
   "cell_type": "markdown",
   "metadata": {},
   "source": [
    "Here are all the tokes in our matrix. Note that `extract` and `extracting` are separate features). Let's plot all the term frequencies:"
   ]
  },
  {
   "cell_type": "code",
   "execution_count": 121,
   "metadata": {},
   "outputs": [],
   "source": [
    "import matplotlib.pyplot as plt\n",
    "\n",
    "def plot_frequencies(count_matrix):\n",
    "    to_plot = count_matrix.sum()\n",
    "    fig = plt.figure(figsize=(12, 6))\n",
    "    plt.barh(to_plot.index, to_plot.values)\n",
    "    plt.show()"
   ]
  },
  {
   "cell_type": "code",
   "execution_count": 122,
   "metadata": {},
   "outputs": [
    {
     "data": {
      "image/png": "[encoded data removed]",
      "text/plain": [
       "<Figure size 864x432 with 1 Axes>"
      ]
     },
     "metadata": {
      "needs_background": "light"
     },
     "output_type": "display_data"
    }
   ],
   "source": [
    "plot_frequencies(stem_example_matrix)"
   ]
  },
  {
   "cell_type": "markdown",
   "metadata": {},
   "source": [
    "Now, let's stem the tokens and vectorize again:"
   ]
  },
  {
   "cell_type": "code",
   "execution_count": 123,
   "metadata": {},
   "outputs": [],
   "source": [
    "stem_example = [[porter.stem(token) for token in tokenize_regex(punct_whitesp, sent)] for sent in sample[:2]]"
   ]
  },
  {
   "cell_type": "code",
   "execution_count": 124,
   "metadata": {},
   "outputs": [],
   "source": [
    "stem_example_matrix = count_vectorize(stem_example)"
   ]
  },
  {
   "cell_type": "code",
   "execution_count": 125,
   "metadata": {},
   "outputs": [
    {
     "data": {
      "image/png": "[encoded data removed]",
      "text/plain": [
       "<Figure size 864x432 with 1 Axes>"
      ]
     },
     "metadata": {
      "needs_background": "light"
     },
     "output_type": "display_data"
    }
   ],
   "source": [
    "plot_frequencies(stem_example_matrix)"
   ]
  },
  {
   "cell_type": "markdown",
   "metadata": {},
   "source": [
    "Now, the term `extract` is counted twice based on semantics and not morphology.\n",
    "\n",
    "But what can we actually do with that binary matrix?\n",
    "\n",
    "# TFIDF\n",
    "Suppose we have a group of texts. We want to figure out what are the important terms in each text. That will allow us to infer what the text is about. How can we achieve that? Intuition tells us that terms that are generally rare throughout a corpus (a group of texts), but are frequent in a particular text could be the most important. We can express this intuition as:\n",
    "\n",
    "$tfidf(t, d, D) = tf(t, d) idf(t, D)$\n",
    "\n",
    "Where $tf(t, d)$ is the term frequency for a single document. It is defined as:\n",
    "\n",
    "$tf(t, d) = 0.5 + 0.5\\frac{f(t, d)}{max \\{f_{t', d} : t' \\in d \\}}$\n",
    "\n",
    "The inverse corpus document frequency $idf(t, D)$ is defined as:\n",
    "\n",
    "$idf(t, D) =  log \\frac{N}{|\\{d \\in D : t \\ d\\}|}$\n",
    "\n",
    "Hence the etymology of the name - term frequency inverse document frequency (TFIDF). Let's appy this method to our text:"
   ]
  },
  {
   "cell_type": "code",
   "execution_count": 126,
   "metadata": {},
   "outputs": [],
   "source": [
    "from sklearn.feature_extraction.text import TfidfVectorizer\n",
    "tfidf_vectorizer = TfidfVectorizer(strip_accents='ascii', stop_words='english')"
   ]
  },
  {
   "cell_type": "code",
   "execution_count": 127,
   "metadata": {},
   "outputs": [],
   "source": [
    "tfidf = tfidf_vectorizer.fit_transform(sample)"
   ]
  },
  {
   "cell_type": "code",
   "execution_count": 128,
   "metadata": {},
   "outputs": [
    {
     "data": {
      "text/plain": [
       "TfidfVectorizer(analyzer='word', binary=False, decode_error='strict',\n",
       "        dtype=<class 'numpy.float64'>, encoding='utf-8', input='content',\n",
       "        lowercase=True, max_df=1.0, max_features=None, min_df=1,\n",
       "        ngram_range=(1, 1), norm='l2', preprocessor=None, smooth_idf=True,\n",
       "        stop_words='english', strip_accents='ascii', sublinear_tf=False,\n",
       "        token_pattern='(?u)\\\\b\\\\w\\\\w+\\\\b', tokenizer=None, use_idf=True,\n",
       "        vocabulary=None)"
      ]
     },
     "execution_count": 128,
     "metadata": {},
     "output_type": "execute_result"
    }
   ],
   "source": [
    "tfidf_vectorizer"
   ]
  },
  {
   "cell_type": "markdown",
   "metadata": {},
   "source": [
    "Let's use our TFIDF vectorizer and derive the 3 most important terms for each sentence in our sample:"
   ]
  },
  {
   "cell_type": "code",
   "execution_count": 129,
   "metadata": {},
   "outputs": [],
   "source": [
    "from collections import defaultdict\n",
    "tfidf_result = defaultdict(list)\n",
    "\n",
    "top_n = 3\n",
    "\n",
    "for i, line in enumerate(sample):\n",
    "    tfidf_result['doc'].append(line)\n",
    "    for j in range(top_n):\n",
    "        feature_names = tfidf_vectorizer.get_feature_names()\n",
    "        term_df = test_df = pd.DataFrame(tfidf.getrow(i).todense(),\n",
    "                                         columns=feature_names)\n",
    "        term = term_df.loc[0].sort_values(ascending=False).reset_index()\n",
    "        tfidf_result[f'term_{j+1}'].append(term.loc[j].values[0])\n",
    "        tfidf_result[f'importance_{j+1}'].append(term.loc[j].values[1])"
   ]
  },
  {
   "cell_type": "code",
   "execution_count": 130,
   "metadata": {},
   "outputs": [
    {
     "data": {
      "text/html": [
       "<div>\n",
       "<style scoped>\n",
       "    .dataframe tbody tr th:only-of-type {\n",
       "        vertical-align: middle;\n",
       "    }\n",
       "\n",
       "    .dataframe tbody tr th {\n",
       "        vertical-align: top;\n",
       "    }\n",
       "\n",
       "    .dataframe thead th {\n",
       "        text-align: right;\n",
       "    }\n",
       "</style>\n",
       "<table border=\"1\" class=\"dataframe\">\n",
       "  <thead>\n",
       "    <tr style=\"text-align: right;\">\n",
       "      <th></th>\n",
       "      <th>doc</th>\n",
       "      <th>term_1</th>\n",
       "      <th>importance_1</th>\n",
       "      <th>term_2</th>\n",
       "      <th>importance_2</th>\n",
       "      <th>term_3</th>\n",
       "      <th>importance_3</th>\n",
       "    </tr>\n",
       "  </thead>\n",
       "  <tbody>\n",
       "    <tr>\n",
       "      <th>0</th>\n",
       "      <td>Natural Language Processing (NLP) is a set of ...</td>\n",
       "      <td>methods</td>\n",
       "      <td>0.346371</td>\n",
       "      <td>set</td>\n",
       "      <td>0.346371</td>\n",
       "      <td>natural</td>\n",
       "      <td>0.346371</td>\n",
       "    </tr>\n",
       "    <tr>\n",
       "      <th>1</th>\n",
       "      <td>But isn't text already data and what would we ...</td>\n",
       "      <td>isn</td>\n",
       "      <td>0.572730</td>\n",
       "      <td>extract</td>\n",
       "      <td>0.572730</td>\n",
       "      <td>data</td>\n",
       "      <td>0.483737</td>\n",
       "    </tr>\n",
       "    <tr>\n",
       "      <th>2</th>\n",
       "      <td>It is data, however it is represented as a con...</td>\n",
       "      <td>represented</td>\n",
       "      <td>0.376659</td>\n",
       "      <td>string</td>\n",
       "      <td>0.376659</td>\n",
       "      <td>continuous</td>\n",
       "      <td>0.376659</td>\n",
       "    </tr>\n",
       "    <tr>\n",
       "      <th>3</th>\n",
       "      <td>The issue here is that statistics use numbers ...</td>\n",
       "      <td>issue</td>\n",
       "      <td>0.491466</td>\n",
       "      <td>statistics</td>\n",
       "      <td>0.491466</td>\n",
       "      <td>use</td>\n",
       "      <td>0.415100</td>\n",
       "    </tr>\n",
       "    <tr>\n",
       "      <th>4</th>\n",
       "      <td>So how do we make numbers out of text?</td>\n",
       "      <td>make</td>\n",
       "      <td>0.698669</td>\n",
       "      <td>numbers</td>\n",
       "      <td>0.590107</td>\n",
       "      <td>text</td>\n",
       "      <td>0.404519</td>\n",
       "    </tr>\n",
       "    <tr>\n",
       "      <th>5</th>\n",
       "      <td>Usually we break down the text into words.</td>\n",
       "      <td>usually</td>\n",
       "      <td>0.572730</td>\n",
       "      <td>break</td>\n",
       "      <td>0.572730</td>\n",
       "      <td>words</td>\n",
       "      <td>0.483737</td>\n",
       "    </tr>\n",
       "    <tr>\n",
       "      <th>6</th>\n",
       "      <td>We can then one-hot encode the words and build...</td>\n",
       "      <td>hot</td>\n",
       "      <td>0.448740</td>\n",
       "      <td>build</td>\n",
       "      <td>0.448740</td>\n",
       "      <td>encode</td>\n",
       "      <td>0.448740</td>\n",
       "    </tr>\n",
       "    <tr>\n",
       "      <th>7</th>\n",
       "      <td>The columns of the matrix are the tokens, whil...</td>\n",
       "      <td>tokens</td>\n",
       "      <td>0.469360</td>\n",
       "      <td>texts</td>\n",
       "      <td>0.469360</td>\n",
       "      <td>columns</td>\n",
       "      <td>0.469360</td>\n",
       "    </tr>\n",
       "    <tr>\n",
       "      <th>8</th>\n",
       "      <td>We can then use the binary matrix as input to ...</td>\n",
       "      <td>functions</td>\n",
       "      <td>0.419612</td>\n",
       "      <td>numeric</td>\n",
       "      <td>0.419612</td>\n",
       "      <td>range</td>\n",
       "      <td>0.419612</td>\n",
       "    </tr>\n",
       "  </tbody>\n",
       "</table>\n",
       "</div>"
      ],
      "text/plain": [
       "                                                 doc       term_1  \\\n",
       "0  Natural Language Processing (NLP) is a set of ...      methods   \n",
       "1  But isn't text already data and what would we ...          isn   \n",
       "2  It is data, however it is represented as a con...  represented   \n",
       "3  The issue here is that statistics use numbers ...        issue   \n",
       "4             So how do we make numbers out of text?         make   \n",
       "5         Usually we break down the text into words.      usually   \n",
       "6  We can then one-hot encode the words and build...          hot   \n",
       "7  The columns of the matrix are the tokens, whil...       tokens   \n",
       "8  We can then use the binary matrix as input to ...    functions   \n",
       "\n",
       "   importance_1      term_2  importance_2      term_3  importance_3  \n",
       "0      0.346371         set      0.346371     natural      0.346371  \n",
       "1      0.572730     extract      0.572730        data      0.483737  \n",
       "2      0.376659      string      0.376659  continuous      0.376659  \n",
       "3      0.491466  statistics      0.491466         use      0.415100  \n",
       "4      0.698669     numbers      0.590107        text      0.404519  \n",
       "5      0.572730       break      0.572730       words      0.483737  \n",
       "6      0.448740       build      0.448740      encode      0.448740  \n",
       "7      0.469360       texts      0.469360     columns      0.469360  \n",
       "8      0.419612     numeric      0.419612       range      0.419612  "
      ]
     },
     "execution_count": 130,
     "metadata": {},
     "output_type": "execute_result"
    }
   ],
   "source": [
    "pd.DataFrame(tfidf_result)"
   ]
  },
  {
   "cell_type": "markdown",
   "metadata": {},
   "source": [
    "# Word2Vec"
   ]
  },
  {
   "cell_type": "code",
   "execution_count": null,
   "metadata": {},
   "outputs": [],
   "source": []
  },
  {
   "cell_type": "code",
   "execution_count": null,
   "metadata": {},
   "outputs": [],
   "source": []
  },
  {
   "cell_type": "markdown",
   "metadata": {},
   "source": [
    "# Semantic Analysis and Grouping"
   ]
  },
  {
   "cell_type": "code",
   "execution_count": null,
   "metadata": {},
   "outputs": [],
   "source": []
  },
  {
   "cell_type": "code",
   "execution_count": null,
   "metadata": {},
   "outputs": [],
   "source": []
  }
 ],
 "metadata": {
  "kernelspec": {
   "display_name": "Python 3",
   "language": "python",
   "name": "python3"
  },
  "language_info": {
   "codemirror_mode": {
    "name": "ipython",
    "version": 3
   },
   "file_extension": ".py",
   "mimetype": "text/x-python",
   "name": "python",
   "nbconvert_exporter": "python",
   "pygments_lexer": "ipython3",
   "version": "3.7.1"
  }
 },
 "nbformat": 4,
 "nbformat_minor": 2
}
