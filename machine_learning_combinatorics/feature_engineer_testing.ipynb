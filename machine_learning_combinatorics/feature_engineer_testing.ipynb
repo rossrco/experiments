{
 "cells": [
  {
   "cell_type": "code",
   "execution_count": 1,
   "metadata": {
    "collapsed": true
   },
   "outputs": [],
   "source": [
    "#statistical\n",
    "import pandas as pd\n",
    "import numpy as np\n",
    "\n",
    "#dataset\n",
    "from sklearn.datasets import load_iris\n",
    "\n",
    "#mchine learning\n",
    "from sklearn.linear_model import LogisticRegression\n",
    "from sklearn.model_selection import train_test_split\n",
    "from sklearn.metrics import accuracy_score\n",
    "from sklearn.metrics import precision_score\n",
    "from sklearn.metrics import recall_score\n",
    "from sklearn.metrics import f1_score\n",
    "\n",
    "#graphing and display\n",
    "import matplotlib.pyplot as plt\n",
    "import seaborn as sns\n",
    "from IPython.display import display\n",
    "\n",
    "#feature engineer\n",
    "import feature_engineer as fe"
   ]
  },
  {
   "cell_type": "code",
   "execution_count": 2,
   "metadata": {},
   "outputs": [],
   "source": [
    "iris = load_iris(return_X_y = True)\n",
    "iris_x = pd.DataFrame(iris[0], columns = ['col_' + str(i) for i in range(iris[0].shape[1])])\n",
    "iris_y = iris[1]"
   ]
  },
  {
   "cell_type": "code",
   "execution_count": 3,
   "metadata": {},
   "outputs": [],
   "source": [
    "logistic_clf = LogisticRegression()"
   ]
  },
  {
   "cell_type": "code",
   "execution_count": 4,
   "metadata": {},
   "outputs": [
    {
     "name": "stderr",
     "output_type": "stream",
     "text": [
      "C:\\Users\\rossr\\AppData\\Local\\Continuum\\anaconda3\\lib\\site-packages\\sklearn\\metrics\\classification.py:1135: UndefinedMetricWarning: F-score is ill-defined and being set to 0.0 in labels with no predicted samples.\n",
      "  'precision', 'predicted', average, warn_for)\n"
     ]
    }
   ],
   "source": [
    "eng = fe.FeatureEngineer(train_test_split, logistic_clf, f1_score, n_best = 15)\n",
    "eng_test = eng.fit_transform(iris_x, iris_y)"
   ]
  },
  {
   "cell_type": "code",
   "execution_count": 5,
   "metadata": {},
   "outputs": [
    {
     "data": {
      "text/html": [
       "<div>\n",
       "<style>\n",
       "    .dataframe thead tr:only-child th {\n",
       "        text-align: right;\n",
       "    }\n",
       "\n",
       "    .dataframe thead th {\n",
       "        text-align: left;\n",
       "    }\n",
       "\n",
       "    .dataframe tbody tr th {\n",
       "        vertical-align: top;\n",
       "    }\n",
       "</style>\n",
       "<table border=\"1\" class=\"dataframe\">\n",
       "  <thead>\n",
       "    <tr style=\"text-align: right;\">\n",
       "      <th></th>\n",
       "      <th>col_0</th>\n",
       "      <th>col_1</th>\n",
       "      <th>col_2</th>\n",
       "      <th>col_3</th>\n",
       "      <th>min_(col_0)_truediv_col_3</th>\n",
       "      <th>max_(col_2)_sub_col_2</th>\n",
       "      <th>col_3_sub_col_1</th>\n",
       "      <th>min_(col_1)_truediv_col_3</th>\n",
       "      <th>min_(col_0)_sub_col_3</th>\n",
       "      <th>col_2_sub_col_1</th>\n",
       "      <th>col_0_truediv_col_2</th>\n",
       "      <th>col_2_sub_col_0</th>\n",
       "      <th>min_(col_2)_truediv_col_3</th>\n",
       "      <th>col_3_mul_col_2</th>\n",
       "      <th>col_3_mul_col_0</th>\n",
       "      <th>max_(col_2)_sub_col_0</th>\n",
       "      <th>col_2_mul_col_1</th>\n",
       "      <th>col_2_add_col_1</th>\n",
       "      <th>max_(col_0)_truediv_col_0</th>\n",
       "    </tr>\n",
       "  </thead>\n",
       "  <tbody>\n",
       "    <tr>\n",
       "      <th>0</th>\n",
       "      <td>5.1</td>\n",
       "      <td>3.5</td>\n",
       "      <td>1.4</td>\n",
       "      <td>0.2</td>\n",
       "      <td>21.5</td>\n",
       "      <td>5.5</td>\n",
       "      <td>-3.3</td>\n",
       "      <td>10.0</td>\n",
       "      <td>4.1</td>\n",
       "      <td>-2.1</td>\n",
       "      <td>3.642857</td>\n",
       "      <td>-3.7</td>\n",
       "      <td>5.0</td>\n",
       "      <td>0.28</td>\n",
       "      <td>1.02</td>\n",
       "      <td>1.8</td>\n",
       "      <td>4.90</td>\n",
       "      <td>4.9</td>\n",
       "      <td>1.549020</td>\n",
       "    </tr>\n",
       "    <tr>\n",
       "      <th>1</th>\n",
       "      <td>4.9</td>\n",
       "      <td>3.0</td>\n",
       "      <td>1.4</td>\n",
       "      <td>0.2</td>\n",
       "      <td>21.5</td>\n",
       "      <td>5.5</td>\n",
       "      <td>-2.8</td>\n",
       "      <td>10.0</td>\n",
       "      <td>4.1</td>\n",
       "      <td>-1.6</td>\n",
       "      <td>3.500000</td>\n",
       "      <td>-3.5</td>\n",
       "      <td>5.0</td>\n",
       "      <td>0.28</td>\n",
       "      <td>0.98</td>\n",
       "      <td>2.0</td>\n",
       "      <td>4.20</td>\n",
       "      <td>4.4</td>\n",
       "      <td>1.612245</td>\n",
       "    </tr>\n",
       "    <tr>\n",
       "      <th>2</th>\n",
       "      <td>4.7</td>\n",
       "      <td>3.2</td>\n",
       "      <td>1.3</td>\n",
       "      <td>0.2</td>\n",
       "      <td>21.5</td>\n",
       "      <td>5.6</td>\n",
       "      <td>-3.0</td>\n",
       "      <td>10.0</td>\n",
       "      <td>4.1</td>\n",
       "      <td>-1.9</td>\n",
       "      <td>3.615385</td>\n",
       "      <td>-3.4</td>\n",
       "      <td>5.0</td>\n",
       "      <td>0.26</td>\n",
       "      <td>0.94</td>\n",
       "      <td>2.2</td>\n",
       "      <td>4.16</td>\n",
       "      <td>4.5</td>\n",
       "      <td>1.680851</td>\n",
       "    </tr>\n",
       "    <tr>\n",
       "      <th>3</th>\n",
       "      <td>4.6</td>\n",
       "      <td>3.1</td>\n",
       "      <td>1.5</td>\n",
       "      <td>0.2</td>\n",
       "      <td>21.5</td>\n",
       "      <td>5.4</td>\n",
       "      <td>-2.9</td>\n",
       "      <td>10.0</td>\n",
       "      <td>4.1</td>\n",
       "      <td>-1.6</td>\n",
       "      <td>3.066667</td>\n",
       "      <td>-3.1</td>\n",
       "      <td>5.0</td>\n",
       "      <td>0.30</td>\n",
       "      <td>0.92</td>\n",
       "      <td>2.3</td>\n",
       "      <td>4.65</td>\n",
       "      <td>4.6</td>\n",
       "      <td>1.717391</td>\n",
       "    </tr>\n",
       "    <tr>\n",
       "      <th>4</th>\n",
       "      <td>5.0</td>\n",
       "      <td>3.6</td>\n",
       "      <td>1.4</td>\n",
       "      <td>0.2</td>\n",
       "      <td>21.5</td>\n",
       "      <td>5.5</td>\n",
       "      <td>-3.4</td>\n",
       "      <td>10.0</td>\n",
       "      <td>4.1</td>\n",
       "      <td>-2.2</td>\n",
       "      <td>3.571429</td>\n",
       "      <td>-3.6</td>\n",
       "      <td>5.0</td>\n",
       "      <td>0.28</td>\n",
       "      <td>1.00</td>\n",
       "      <td>1.9</td>\n",
       "      <td>5.04</td>\n",
       "      <td>5.0</td>\n",
       "      <td>1.580000</td>\n",
       "    </tr>\n",
       "  </tbody>\n",
       "</table>\n",
       "</div>"
      ],
      "text/plain": [
       "   col_0  col_1  col_2  col_3  min_(col_0)_truediv_col_3  \\\n",
       "0    5.1    3.5    1.4    0.2                       21.5   \n",
       "1    4.9    3.0    1.4    0.2                       21.5   \n",
       "2    4.7    3.2    1.3    0.2                       21.5   \n",
       "3    4.6    3.1    1.5    0.2                       21.5   \n",
       "4    5.0    3.6    1.4    0.2                       21.5   \n",
       "\n",
       "   max_(col_2)_sub_col_2  col_3_sub_col_1  min_(col_1)_truediv_col_3  \\\n",
       "0                    5.5             -3.3                       10.0   \n",
       "1                    5.5             -2.8                       10.0   \n",
       "2                    5.6             -3.0                       10.0   \n",
       "3                    5.4             -2.9                       10.0   \n",
       "4                    5.5             -3.4                       10.0   \n",
       "\n",
       "   min_(col_0)_sub_col_3  col_2_sub_col_1  col_0_truediv_col_2  \\\n",
       "0                    4.1             -2.1             3.642857   \n",
       "1                    4.1             -1.6             3.500000   \n",
       "2                    4.1             -1.9             3.615385   \n",
       "3                    4.1             -1.6             3.066667   \n",
       "4                    4.1             -2.2             3.571429   \n",
       "\n",
       "   col_2_sub_col_0  min_(col_2)_truediv_col_3  col_3_mul_col_2  \\\n",
       "0             -3.7                        5.0             0.28   \n",
       "1             -3.5                        5.0             0.28   \n",
       "2             -3.4                        5.0             0.26   \n",
       "3             -3.1                        5.0             0.30   \n",
       "4             -3.6                        5.0             0.28   \n",
       "\n",
       "   col_3_mul_col_0  max_(col_2)_sub_col_0  col_2_mul_col_1  col_2_add_col_1  \\\n",
       "0             1.02                    1.8             4.90              4.9   \n",
       "1             0.98                    2.0             4.20              4.4   \n",
       "2             0.94                    2.2             4.16              4.5   \n",
       "3             0.92                    2.3             4.65              4.6   \n",
       "4             1.00                    1.9             5.04              5.0   \n",
       "\n",
       "   max_(col_0)_truediv_col_0  \n",
       "0                   1.549020  \n",
       "1                   1.612245  \n",
       "2                   1.680851  \n",
       "3                   1.717391  \n",
       "4                   1.580000  "
      ]
     },
     "execution_count": 5,
     "metadata": {},
     "output_type": "execute_result"
    }
   ],
   "source": [
    "eng_test.head()"
   ]
  },
  {
   "cell_type": "code",
   "execution_count": 6,
   "metadata": {},
   "outputs": [
    {
     "name": "stdout",
     "output_type": "stream",
     "text": [
      "<class 'pandas.core.frame.DataFrame'>\n",
      "RangeIndex: 150 entries, 0 to 149\n",
      "Data columns (total 19 columns):\n",
      "col_0                        150 non-null float64\n",
      "col_1                        150 non-null float64\n",
      "col_2                        150 non-null float64\n",
      "col_3                        150 non-null float64\n",
      "min_(col_0)_truediv_col_3    150 non-null float64\n",
      "max_(col_2)_sub_col_2        150 non-null float64\n",
      "col_3_sub_col_1              150 non-null float64\n",
      "min_(col_1)_truediv_col_3    150 non-null float64\n",
      "min_(col_0)_sub_col_3        150 non-null float64\n",
      "col_2_sub_col_1              150 non-null float64\n",
      "col_0_truediv_col_2          150 non-null float64\n",
      "col_2_sub_col_0              150 non-null float64\n",
      "min_(col_2)_truediv_col_3    150 non-null float64\n",
      "col_3_mul_col_2              150 non-null float64\n",
      "col_3_mul_col_0              150 non-null float64\n",
      "max_(col_2)_sub_col_0        150 non-null float64\n",
      "col_2_mul_col_1              150 non-null float64\n",
      "col_2_add_col_1              150 non-null float64\n",
      "max_(col_0)_truediv_col_0    150 non-null float64\n",
      "dtypes: float64(19)\n",
      "memory usage: 22.3 KB\n"
     ]
    }
   ],
   "source": [
    "eng_test.info()"
   ]
  },
  {
   "cell_type": "code",
   "execution_count": 7,
   "metadata": {},
   "outputs": [
    {
     "data": {
      "text/plain": [
       "LogisticRegression(C=1.0, class_weight=None, dual=False, fit_intercept=True,\n",
       "          intercept_scaling=1, max_iter=100, multi_class='ovr', n_jobs=1,\n",
       "          penalty='l2', random_state=None, solver='liblinear', tol=0.0001,\n",
       "          verbose=0, warm_start=False)"
      ]
     },
     "execution_count": 7,
     "metadata": {},
     "output_type": "execute_result"
    }
   ],
   "source": [
    "X_train, X_test, y_train, y_test = train_test_split(eng_test, iris_y, test_size = 0.3, random_state = 42)\n",
    "logistic_clf = LogisticRegression()\n",
    "logistic_clf.fit(X_train, y_train)"
   ]
  },
  {
   "cell_type": "code",
   "execution_count": 8,
   "metadata": {
    "collapsed": true
   },
   "outputs": [],
   "source": [
    "y_pred = logistic_clf.predict(X_test)\n",
    "y_pred_proba = logistic_clf.predict_proba(X_test)"
   ]
  },
  {
   "cell_type": "code",
   "execution_count": 9,
   "metadata": {},
   "outputs": [
    {
     "name": "stdout",
     "output_type": "stream",
     "text": [
      "Accuracy: 1.00\n",
      "Precision: 1.00\n",
      "Recall: 1.00\n",
      "F1 score: 1.00\n"
     ]
    }
   ],
   "source": [
    "print('Accuracy: {:.2f}'.format(accuracy_score(y_test, y_pred)))\n",
    "print('Precision: {:.2f}'.format(precision_score(y_test, y_pred, average = 'weighted')))\n",
    "print('Recall: {:.2f}'.format(recall_score(y_test, y_pred, average = 'weighted')))\n",
    "print('F1 score: {:.2f}'.format(f1_score(y_test, y_pred, average = 'weighted')))"
   ]
  },
  {
   "cell_type": "code",
   "execution_count": 14,
   "metadata": {},
   "outputs": [
    {
     "name": "stdout",
     "output_type": "stream",
     "text": [
      "0 1.0 Index(['min_(col_0)_truediv_col_3'], dtype='object')\n",
      "1 0.977744855967 Index(['max_(col_2)_sub_col_2'], dtype='object')\n",
      "2 0.955555555556 Index(['col_3_sub_col_1'], dtype='object')\n",
      "3 0.955291005291 Index(['min_(col_1)_truediv_col_3'], dtype='object')\n",
      "4 0.930857709119 Index(['min_(col_0)_sub_col_3'], dtype='object')\n",
      "5 0.908956228956 Index(['col_2_sub_col_1'], dtype='object')\n",
      "6 0.884621949138 Index(['col_0_truediv_col_2'], dtype='object')\n",
      "7 0.864729344729 Index(['col_2_sub_col_0'], dtype='object')\n",
      "8 0.859166666667 Index(['min_(col_2)_truediv_col_3'], dtype='object')\n",
      "9 0.832287790183 Index(['col_3_mul_col_2'], dtype='object')\n",
      "10 0.803631082062 Index(['col_3_mul_col_0'], dtype='object')\n",
      "11 0.773007856341 Index(['max_(col_2)_sub_col_0'], dtype='object')\n",
      "12 0.772773109244 Index(['col_2_mul_col_1'], dtype='object')\n",
      "13 0.753809047142 Index(['col_2_add_col_1'], dtype='object')\n"
     ]
    }
   ],
   "source": [
    "for i, s in enumerate(sorted(eng.best_cols, reverse = True)):\n",
    "    if i < 14:\n",
    "        print(i, s, eng.best_cols[s].columns)"
   ]
  },
  {
   "cell_type": "code",
   "execution_count": null,
   "metadata": {
    "collapsed": true
   },
   "outputs": [],
   "source": []
  }
 ],
 "metadata": {
  "kernelspec": {
   "display_name": "Python 3",
   "language": "python",
   "name": "python3"
  },
  "language_info": {
   "codemirror_mode": {
    "name": "ipython",
    "version": 3
   },
   "file_extension": ".py",
   "mimetype": "text/x-python",
   "name": "python",
   "nbconvert_exporter": "python",
   "pygments_lexer": "ipython3",
   "version": "3.6.3"
  }
 },
 "nbformat": 4,
 "nbformat_minor": 2
}
