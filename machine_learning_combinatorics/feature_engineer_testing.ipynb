{
 "cells": [
  {
   "cell_type": "code",
   "execution_count": 1,
   "metadata": {},
   "outputs": [],
   "source": [
    "#statistical\n",
    "import pandas as pd\n",
    "import numpy as np\n",
    "\n",
    "#dataset\n",
    "from sklearn.datasets import load_iris\n",
    "\n",
    "#mchine learning\n",
    "from sklearn.linear_model import LogisticRegression\n",
    "from sklearn.model_selection import train_test_split\n",
    "from sklearn.metrics import accuracy_score\n",
    "from sklearn.metrics import precision_score\n",
    "from sklearn.metrics import recall_score\n",
    "from sklearn.metrics import f1_score\n",
    "\n",
    "#graphing and display\n",
    "import matplotlib.pyplot as plt\n",
    "import seaborn as sns\n",
    "from IPython.display import display\n",
    "\n",
    "#feature engineer\n",
    "import feature_engineer as fe"
   ]
  },
  {
   "cell_type": "code",
   "execution_count": 2,
   "metadata": {
    "collapsed": true
   },
   "outputs": [],
   "source": [
    "iris = load_iris(return_X_y = True)\n",
    "iris_x = pd.DataFrame(iris[0], columns = ['col_' + str(i) for i in range(iris[0].shape[1])])\n",
    "iris_y = iris[1]"
   ]
  },
  {
   "cell_type": "code",
   "execution_count": 3,
   "metadata": {
    "collapsed": true
   },
   "outputs": [],
   "source": [
    "logistic_clf = LogisticRegression()"
   ]
  },
  {
   "cell_type": "code",
   "execution_count": 4,
   "metadata": {
    "collapsed": true
   },
   "outputs": [],
   "source": [
    "X_train, X_test, y_train, y_test = train_test_split(iris_x, iris_y, test_size = 0.3, random_state = 42)"
   ]
  },
  {
   "cell_type": "code",
   "execution_count": 5,
   "metadata": {},
   "outputs": [
    {
     "name": "stderr",
     "output_type": "stream",
     "text": [
      "c:\\projects\\experiments\\machine_learning_combinatorics\\feature_engineer.py:29: FutureWarning: reshape is deprecated and will raise in a subsequent release. Please use .values.reshape(...) instead\n",
      "  res = o(df[c1], df[c2]).reshape(-1, 1)\n",
      "C:\\Users\\rossr\\AppData\\Local\\Continuum\\anaconda3\\lib\\site-packages\\sklearn\\metrics\\classification.py:1135: UndefinedMetricWarning: F-score is ill-defined and being set to 0.0 in labels with no predicted samples.\n",
      "  'precision', 'predicted', average, warn_for)\n"
     ]
    }
   ],
   "source": [
    "eng = fe.FeatureEngineer(logistic_clf, f1_score, n_best = 15)\n",
    "eng.fit(X_train, y_train)"
   ]
  },
  {
   "cell_type": "code",
   "execution_count": 8,
   "metadata": {},
   "outputs": [
    {
     "name": "stdout",
     "output_type": "stream",
     "text": [
      "0 0.937215909091 {'transformation_function': <function derive_feature_combinations.<locals>.<lambda> at 0x000001C9A9E06510>, 'x1': 'col_1', 'x2': 'col_3', 'column_name': 'col_1_truediv_col_3'}\n",
      "1 0.90625 {'transformation_function': <function derive_feature_combinations.<locals>.<lambda> at 0x000001C9A9E06730>, 'x1': 'col_3', 'x2': 'col_1', 'column_name': 'col_3_sub_col_1'}\n",
      "2 0.874431818182 {'transformation_function': <function derive_feature_combinations.<locals>.<lambda> at 0x000001C9A9E06598>, 'x1': 'col_0', 'x2': 'col_3', 'column_name': 'col_0_truediv_col_3'}\n",
      "3 0.871527777778 {'transformation_function': <function derive_feature_combinations.<locals>.<lambda> at 0x000001C9A9E06158>, 'x1': 'col_2', 'x2': 'col_0', 'column_name': 'col_2_sub_col_0'}\n",
      "4 0.836397058824 {'transformation_function': <function derive_feature_combinations.<locals>.<lambda> at 0x000001C9A9E060D0>, 'x1': 'col_3', 'x2': 'col_2', 'column_name': 'col_3_mul_col_2'}\n",
      "5 0.758564814815 {'transformation_function': <function derive_feature_combinations.<locals>.<lambda> at 0x000001C9A9E06620>, 'x1': 'col_3', 'x2': 'col_0', 'column_name': 'col_3_mul_col_0'}\n",
      "6 0.716635338346 {'transformation_function': <function derive_feature_combinations.<locals>.<lambda> at 0x000001C9A9C3ED90>, 'x1': 'col_2', 'x2': 'col_3', 'column_name': 'col_2_truediv_col_3'}\n",
      "7 0.714285714286 {'transformation_function': <function derive_feature_combinations.<locals>.<lambda> at 0x000001C9A9E066A8>, 'x1': 'col_3', 'x2': 'col_2', 'column_name': 'col_3_add_col_2'}\n",
      "8 0.689583333333 {'transformation_function': <function derive_feature_combinations.<locals>.<lambda> at 0x000001C9A9E06400>, 'x1': 'col_3', 'x2': 'col_1', 'column_name': 'col_3_mul_col_1'}\n",
      "9 0.642857142857 {'transformation_function': <function derive_feature_combinations.<locals>.<lambda> at 0x000001C9A9E06488>, 'x1': 'col_2', 'x2': 'col_1', 'column_name': 'col_2_mul_col_1'}\n",
      "10 0.616558908046 {'transformation_function': <function derive_feature_combinations.<locals>.<lambda> at 0x000001C9A9E062F0>, 'x1': 'col_3', 'x2': 'col_0', 'column_name': 'col_3_add_col_0'}\n",
      "11 0.609375 {'transformation_function': <function derive_feature_combinations.<locals>.<lambda> at 0x000001C9A9E068C8>, 'x1': 'col_3', 'x2': 'col_1', 'column_name': 'col_3_truediv_col_1'}\n",
      "12 0.537137681159 {'transformation_function': <function derive_feature_combinations.<locals>.<lambda> at 0x000001C9A9E067B8>, 'x1': 'col_3', 'x2': 'col_2', 'column_name': 'col_3_sub_col_2'}\n",
      "13 0.522693452381 {'transformation_function': <function derive_feature_combinations.<locals>.<lambda> at 0x000001C9A9E061E0>, 'x1': 'col_0', 'x2': 'col_1', 'column_name': 'col_0_truediv_col_1'}\n",
      "14 0.498768939394 {'transformation_function': <function derive_feature_combinations.<locals>.<lambda> at 0x000001C9A9E06268>, 'x1': 'col_1', 'x2': 'col_0', 'column_name': 'col_1_truediv_col_0'}\n"
     ]
    }
   ],
   "source": [
    "for i, s in enumerate(sorted(eng.best_columns, reverse = True)):\n",
    "    print(i, s, eng.best_columns[s])"
   ]
  },
  {
   "cell_type": "code",
   "execution_count": 9,
   "metadata": {
    "collapsed": true
   },
   "outputs": [],
   "source": [
    "eng.transform(iris_x)"
   ]
  },
  {
   "cell_type": "code",
   "execution_count": 10,
   "metadata": {},
   "outputs": [
    {
     "data": {
      "text/html": [
       "<div>\n",
       "<style>\n",
       "    .dataframe thead tr:only-child th {\n",
       "        text-align: right;\n",
       "    }\n",
       "\n",
       "    .dataframe thead th {\n",
       "        text-align: left;\n",
       "    }\n",
       "\n",
       "    .dataframe tbody tr th {\n",
       "        vertical-align: top;\n",
       "    }\n",
       "</style>\n",
       "<table border=\"1\" class=\"dataframe\">\n",
       "  <thead>\n",
       "    <tr style=\"text-align: right;\">\n",
       "      <th></th>\n",
       "      <th>col_0</th>\n",
       "      <th>col_1</th>\n",
       "      <th>col_2</th>\n",
       "      <th>col_3</th>\n",
       "      <th>col_3_add_col_2</th>\n",
       "      <th>col_0_truediv_col_1</th>\n",
       "      <th>col_3_truediv_col_1</th>\n",
       "      <th>col_2_sub_col_0</th>\n",
       "      <th>col_3_add_col_0</th>\n",
       "      <th>col_3_mul_col_0</th>\n",
       "      <th>col_0_truediv_col_3</th>\n",
       "      <th>col_1_truediv_col_0</th>\n",
       "      <th>col_2_mul_col_1</th>\n",
       "      <th>col_3_mul_col_2</th>\n",
       "      <th>col_3_mul_col_1</th>\n",
       "      <th>col_3_sub_col_1</th>\n",
       "      <th>col_1_truediv_col_3</th>\n",
       "      <th>col_3_sub_col_2</th>\n",
       "      <th>col_2_truediv_col_3</th>\n",
       "    </tr>\n",
       "  </thead>\n",
       "  <tbody>\n",
       "    <tr>\n",
       "      <th>0</th>\n",
       "      <td>5.1</td>\n",
       "      <td>3.5</td>\n",
       "      <td>1.4</td>\n",
       "      <td>0.2</td>\n",
       "      <td>0.142857</td>\n",
       "      <td>1.457143</td>\n",
       "      <td>0.057143</td>\n",
       "      <td>0.274510</td>\n",
       "      <td>0.039216</td>\n",
       "      <td>0.039216</td>\n",
       "      <td>25.5</td>\n",
       "      <td>0.686275</td>\n",
       "      <td>0.400000</td>\n",
       "      <td>0.142857</td>\n",
       "      <td>0.057143</td>\n",
       "      <td>0.057143</td>\n",
       "      <td>17.5</td>\n",
       "      <td>0.142857</td>\n",
       "      <td>7.0</td>\n",
       "    </tr>\n",
       "    <tr>\n",
       "      <th>1</th>\n",
       "      <td>4.9</td>\n",
       "      <td>3.0</td>\n",
       "      <td>1.4</td>\n",
       "      <td>0.2</td>\n",
       "      <td>0.142857</td>\n",
       "      <td>1.633333</td>\n",
       "      <td>0.066667</td>\n",
       "      <td>0.285714</td>\n",
       "      <td>0.040816</td>\n",
       "      <td>0.040816</td>\n",
       "      <td>24.5</td>\n",
       "      <td>0.612245</td>\n",
       "      <td>0.466667</td>\n",
       "      <td>0.142857</td>\n",
       "      <td>0.066667</td>\n",
       "      <td>0.066667</td>\n",
       "      <td>15.0</td>\n",
       "      <td>0.142857</td>\n",
       "      <td>7.0</td>\n",
       "    </tr>\n",
       "    <tr>\n",
       "      <th>2</th>\n",
       "      <td>4.7</td>\n",
       "      <td>3.2</td>\n",
       "      <td>1.3</td>\n",
       "      <td>0.2</td>\n",
       "      <td>0.153846</td>\n",
       "      <td>1.468750</td>\n",
       "      <td>0.062500</td>\n",
       "      <td>0.276596</td>\n",
       "      <td>0.042553</td>\n",
       "      <td>0.042553</td>\n",
       "      <td>23.5</td>\n",
       "      <td>0.680851</td>\n",
       "      <td>0.406250</td>\n",
       "      <td>0.153846</td>\n",
       "      <td>0.062500</td>\n",
       "      <td>0.062500</td>\n",
       "      <td>16.0</td>\n",
       "      <td>0.153846</td>\n",
       "      <td>6.5</td>\n",
       "    </tr>\n",
       "    <tr>\n",
       "      <th>3</th>\n",
       "      <td>4.6</td>\n",
       "      <td>3.1</td>\n",
       "      <td>1.5</td>\n",
       "      <td>0.2</td>\n",
       "      <td>0.133333</td>\n",
       "      <td>1.483871</td>\n",
       "      <td>0.064516</td>\n",
       "      <td>0.326087</td>\n",
       "      <td>0.043478</td>\n",
       "      <td>0.043478</td>\n",
       "      <td>23.0</td>\n",
       "      <td>0.673913</td>\n",
       "      <td>0.483871</td>\n",
       "      <td>0.133333</td>\n",
       "      <td>0.064516</td>\n",
       "      <td>0.064516</td>\n",
       "      <td>15.5</td>\n",
       "      <td>0.133333</td>\n",
       "      <td>7.5</td>\n",
       "    </tr>\n",
       "    <tr>\n",
       "      <th>4</th>\n",
       "      <td>5.0</td>\n",
       "      <td>3.6</td>\n",
       "      <td>1.4</td>\n",
       "      <td>0.2</td>\n",
       "      <td>0.142857</td>\n",
       "      <td>1.388889</td>\n",
       "      <td>0.055556</td>\n",
       "      <td>0.280000</td>\n",
       "      <td>0.040000</td>\n",
       "      <td>0.040000</td>\n",
       "      <td>25.0</td>\n",
       "      <td>0.720000</td>\n",
       "      <td>0.388889</td>\n",
       "      <td>0.142857</td>\n",
       "      <td>0.055556</td>\n",
       "      <td>0.055556</td>\n",
       "      <td>18.0</td>\n",
       "      <td>0.142857</td>\n",
       "      <td>7.0</td>\n",
       "    </tr>\n",
       "  </tbody>\n",
       "</table>\n",
       "</div>"
      ],
      "text/plain": [
       "   col_0  col_1  col_2  col_3  col_3_add_col_2  col_0_truediv_col_1  \\\n",
       "0    5.1    3.5    1.4    0.2         0.142857             1.457143   \n",
       "1    4.9    3.0    1.4    0.2         0.142857             1.633333   \n",
       "2    4.7    3.2    1.3    0.2         0.153846             1.468750   \n",
       "3    4.6    3.1    1.5    0.2         0.133333             1.483871   \n",
       "4    5.0    3.6    1.4    0.2         0.142857             1.388889   \n",
       "\n",
       "   col_3_truediv_col_1  col_2_sub_col_0  col_3_add_col_0  col_3_mul_col_0  \\\n",
       "0             0.057143         0.274510         0.039216         0.039216   \n",
       "1             0.066667         0.285714         0.040816         0.040816   \n",
       "2             0.062500         0.276596         0.042553         0.042553   \n",
       "3             0.064516         0.326087         0.043478         0.043478   \n",
       "4             0.055556         0.280000         0.040000         0.040000   \n",
       "\n",
       "   col_0_truediv_col_3  col_1_truediv_col_0  col_2_mul_col_1  col_3_mul_col_2  \\\n",
       "0                 25.5             0.686275         0.400000         0.142857   \n",
       "1                 24.5             0.612245         0.466667         0.142857   \n",
       "2                 23.5             0.680851         0.406250         0.153846   \n",
       "3                 23.0             0.673913         0.483871         0.133333   \n",
       "4                 25.0             0.720000         0.388889         0.142857   \n",
       "\n",
       "   col_3_mul_col_1  col_3_sub_col_1  col_1_truediv_col_3  col_3_sub_col_2  \\\n",
       "0         0.057143         0.057143                 17.5         0.142857   \n",
       "1         0.066667         0.066667                 15.0         0.142857   \n",
       "2         0.062500         0.062500                 16.0         0.153846   \n",
       "3         0.064516         0.064516                 15.5         0.133333   \n",
       "4         0.055556         0.055556                 18.0         0.142857   \n",
       "\n",
       "   col_2_truediv_col_3  \n",
       "0                  7.0  \n",
       "1                  7.0  \n",
       "2                  6.5  \n",
       "3                  7.5  \n",
       "4                  7.0  "
      ]
     },
     "execution_count": 10,
     "metadata": {},
     "output_type": "execute_result"
    }
   ],
   "source": [
    "iris_x.head()"
   ]
  },
  {
   "cell_type": "code",
   "execution_count": 11,
   "metadata": {},
   "outputs": [
    {
     "name": "stdout",
     "output_type": "stream",
     "text": [
      "<class 'pandas.core.frame.DataFrame'>\n",
      "RangeIndex: 150 entries, 0 to 149\n",
      "Data columns (total 19 columns):\n",
      "col_0                  150 non-null float64\n",
      "col_1                  150 non-null float64\n",
      "col_2                  150 non-null float64\n",
      "col_3                  150 non-null float64\n",
      "col_3_add_col_2        150 non-null float64\n",
      "col_0_truediv_col_1    150 non-null float64\n",
      "col_3_truediv_col_1    150 non-null float64\n",
      "col_2_sub_col_0        150 non-null float64\n",
      "col_3_add_col_0        150 non-null float64\n",
      "col_3_mul_col_0        150 non-null float64\n",
      "col_0_truediv_col_3    150 non-null float64\n",
      "col_1_truediv_col_0    150 non-null float64\n",
      "col_2_mul_col_1        150 non-null float64\n",
      "col_3_mul_col_2        150 non-null float64\n",
      "col_3_mul_col_1        150 non-null float64\n",
      "col_3_sub_col_1        150 non-null float64\n",
      "col_1_truediv_col_3    150 non-null float64\n",
      "col_3_sub_col_2        150 non-null float64\n",
      "col_2_truediv_col_3    150 non-null float64\n",
      "dtypes: float64(19)\n",
      "memory usage: 22.3 KB\n"
     ]
    }
   ],
   "source": [
    "iris_x.info()"
   ]
  },
  {
   "cell_type": "code",
   "execution_count": 12,
   "metadata": {
    "collapsed": true
   },
   "outputs": [],
   "source": [
    "X_train, X_test, y_train, y_test = train_test_split(iris_x, iris_y, test_size = 0.3, random_state = 42)"
   ]
  },
  {
   "cell_type": "code",
   "execution_count": 13,
   "metadata": {},
   "outputs": [
    {
     "data": {
      "text/plain": [
       "LogisticRegression(C=1.0, class_weight=None, dual=False, fit_intercept=True,\n",
       "          intercept_scaling=1, max_iter=100, multi_class='ovr', n_jobs=1,\n",
       "          penalty='l2', random_state=None, solver='liblinear', tol=0.0001,\n",
       "          verbose=0, warm_start=False)"
      ]
     },
     "execution_count": 13,
     "metadata": {},
     "output_type": "execute_result"
    }
   ],
   "source": [
    "logistic_clf.fit(X_train, y_train)"
   ]
  },
  {
   "cell_type": "code",
   "execution_count": 14,
   "metadata": {
    "collapsed": true
   },
   "outputs": [],
   "source": [
    "y_pred = logistic_clf.predict(X_test)\n",
    "y_pred_proba = logistic_clf.predict_proba(X_test)"
   ]
  },
  {
   "cell_type": "code",
   "execution_count": 15,
   "metadata": {},
   "outputs": [
    {
     "name": "stdout",
     "output_type": "stream",
     "text": [
      "Accuracy: 1.00\n",
      "Precision: 1.00\n",
      "Recall: 1.00\n",
      "F1 score: 1.00\n"
     ]
    }
   ],
   "source": [
    "print('Accuracy: {:.2f}'.format(accuracy_score(y_test, y_pred)))\n",
    "print('Precision: {:.2f}'.format(precision_score(y_test, y_pred, average = 'weighted')))\n",
    "print('Recall: {:.2f}'.format(recall_score(y_test, y_pred, average = 'weighted')))\n",
    "print('F1 score: {:.2f}'.format(f1_score(y_test, y_pred, average = 'weighted')))"
   ]
  },
  {
   "cell_type": "code",
   "execution_count": null,
   "metadata": {
    "collapsed": true
   },
   "outputs": [],
   "source": []
  }
 ],
 "metadata": {
  "kernelspec": {
   "display_name": "Python 3",
   "language": "python",
   "name": "python3"
  },
  "language_info": {
   "codemirror_mode": {
    "name": "ipython",
    "version": 3
   },
   "file_extension": ".py",
   "mimetype": "text/x-python",
   "name": "python",
   "nbconvert_exporter": "python",
   "pygments_lexer": "ipython3",
   "version": "3.6.3"
  }
 },
 "nbformat": 4,
 "nbformat_minor": 2
}
