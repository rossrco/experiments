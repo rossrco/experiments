{
 "cells": [
  {
   "cell_type": "code",
   "execution_count": 13,
   "metadata": {},
   "outputs": [],
   "source": [
    "#statistical\n",
    "import pandas as pd\n",
    "import numpy as np\n",
    "\n",
    "#dataset\n",
    "from sklearn.datasets import load_iris\n",
    "\n",
    "#mchine learning\n",
    "from sklearn.linear_model import LogisticRegression\n",
    "from sklearn.model_selection import train_test_split\n",
    "from sklearn.metrics import accuracy_score\n",
    "from sklearn.metrics import precision_score\n",
    "from sklearn.metrics import recall_score\n",
    "from sklearn.metrics import f1_score, r2_score, accuracy_score\n",
    "\n",
    "#graphing and display\n",
    "import matplotlib.pyplot as plt\n",
    "import seaborn as sns\n",
    "from IPython.display import display\n",
    "\n",
    "#feature engineer\n",
    "import feature_engineer as fe"
   ]
  },
  {
   "cell_type": "code",
   "execution_count": 14,
   "metadata": {
    "collapsed": true
   },
   "outputs": [],
   "source": [
    "def display_metrics(y_test, y_pred):\n",
    "    print('Accuracy: {:.2f}'.format(accuracy_score(y_test, y_pred)))\n",
    "    print('Precision: {:.2f}'.format(precision_score(y_test, y_pred, average = 'weighted')))\n",
    "    print('Recall: {:.2f}'.format(recall_score(y_test, y_pred, average = 'weighted')))\n",
    "    print('F1 score: {:.2f}'.format(f1_score(y_test, y_pred, average = 'weighted')))\n",
    "\n",
    "def train_and_predict(model, X_train, X_test, y_train):\n",
    "    logistic_clf.fit(X_train, y_train)\n",
    "    y_pred = logistic_clf.predict(X_test)\n",
    "    return y_pred"
   ]
  },
  {
   "cell_type": "code",
   "execution_count": 15,
   "metadata": {
    "collapsed": true
   },
   "outputs": [],
   "source": [
    "iris = load_iris(return_X_y = True)\n",
    "iris_x = pd.DataFrame(iris[0], columns = ['col_' + str(i) for i in range(iris[0].shape[1])])\n",
    "iris_y = iris[1]"
   ]
  },
  {
   "cell_type": "code",
   "execution_count": 16,
   "metadata": {
    "collapsed": true
   },
   "outputs": [],
   "source": [
    "random_seed = 42\n",
    "test_size = 0.3\n",
    "splitter_kwargs = {'test_size' : 0.3, 'random_state' : 42}\n",
    "scorer_kwargs = {'average' : 'weighted'}"
   ]
  },
  {
   "cell_type": "code",
   "execution_count": 17,
   "metadata": {
    "collapsed": true
   },
   "outputs": [],
   "source": [
    "logistic_clf = LogisticRegression()"
   ]
  },
  {
   "cell_type": "code",
   "execution_count": 18,
   "metadata": {
    "collapsed": true
   },
   "outputs": [],
   "source": [
    "X_train, X_test, y_train, y_test = train_test_split(iris_x, iris_y, test_size = 0.3, random_state = 42)"
   ]
  },
  {
   "cell_type": "code",
   "execution_count": 19,
   "metadata": {},
   "outputs": [
    {
     "name": "stdout",
     "output_type": "stream",
     "text": [
      "Accuracy: 0.98\n",
      "Precision: 0.98\n",
      "Recall: 0.98\n",
      "F1 score: 0.98\n"
     ]
    }
   ],
   "source": [
    "y_pred = train_and_predict(logistic_clf, X_train, X_test, y_train)\n",
    "display_metrics(y_test, y_pred)"
   ]
  },
  {
   "cell_type": "code",
   "execution_count": 20,
   "metadata": {},
   "outputs": [
    {
     "name": "stderr",
     "output_type": "stream",
     "text": [
      "C:\\Users\\rossr\\AppData\\Local\\Continuum\\anaconda3\\lib\\site-packages\\sklearn\\metrics\\classification.py:1135: UndefinedMetricWarning: F-score is ill-defined and being set to 0.0 in labels with no predicted samples.\n",
      "  'precision', 'predicted', average, warn_for)\n"
     ]
    }
   ],
   "source": [
    "eng = fe.FeatureEngineer(logistic_clf, f1_score, train_test_split, n_best = 15,\n",
    "                         scorer_kwargs = scorer_kwargs, splitter_kwargs = splitter_kwargs)\n",
    "eng.fit(X_train, y_train)"
   ]
  },
  {
   "cell_type": "code",
   "execution_count": 21,
   "metadata": {},
   "outputs": [
    {
     "name": "stdout",
     "output_type": "stream",
     "text": [
      "0 0.937215909091 col_1_truediv_col_3\n",
      "1 0.90625 col_3_sub_col_1\n",
      "2 0.874431818182 col_0_truediv_col_3\n",
      "3 0.871527777778 col_2_sub_col_0\n",
      "4 0.836397058824 col_3_mul_col_2\n",
      "5 0.758564814815 col_3_mul_col_0\n",
      "6 0.716635338346 col_2_truediv_col_3\n",
      "7 0.714285714286 col_3_add_col_2\n",
      "8 0.689583333333 col_3_mul_col_1\n",
      "9 0.642857142857 col_2_mul_col_1\n",
      "10 0.616558908046 col_3_add_col_0\n",
      "11 0.609375 col_3_truediv_col_1\n",
      "12 0.537137681159 col_3_sub_col_2\n",
      "13 0.522693452381 col_0_truediv_col_1\n",
      "14 0.498768939394 col_1_truediv_col_0\n"
     ]
    }
   ],
   "source": [
    "for i, s in enumerate(sorted(eng.best_columns, reverse = True)):\n",
    "    print(i, s, eng.best_columns[s]['column_name'])"
   ]
  },
  {
   "cell_type": "code",
   "execution_count": 22,
   "metadata": {},
   "outputs": [
    {
     "name": "stderr",
     "output_type": "stream",
     "text": [
      "c:\\projects\\experiments\\machine_learning_combinatorics\\feature_engineer.py:121: SettingWithCopyWarning: \n",
      "A value is trying to be set on a copy of a slice from a DataFrame.\n",
      "Try using .loc[row_indexer,col_indexer] = value instead\n",
      "\n",
      "See the caveats in the documentation: http://pandas.pydata.org/pandas-docs/stable/indexing.html#indexing-view-versus-copy\n",
      "  df[trans['column_name']] = trans['transformation_function'](df[trans['x1']], df[trans['x2']])\n"
     ]
    }
   ],
   "source": [
    "for df in (X_train, X_test):\n",
    "    df = eng.transform(df)"
   ]
  },
  {
   "cell_type": "code",
   "execution_count": 23,
   "metadata": {},
   "outputs": [
    {
     "data": {
      "text/html": [
       "<div>\n",
       "<style>\n",
       "    .dataframe thead tr:only-child th {\n",
       "        text-align: right;\n",
       "    }\n",
       "\n",
       "    .dataframe thead th {\n",
       "        text-align: left;\n",
       "    }\n",
       "\n",
       "    .dataframe tbody tr th {\n",
       "        vertical-align: top;\n",
       "    }\n",
       "</style>\n",
       "<table border=\"1\" class=\"dataframe\">\n",
       "  <thead>\n",
       "    <tr style=\"text-align: right;\">\n",
       "      <th></th>\n",
       "      <th>col_0</th>\n",
       "      <th>col_1</th>\n",
       "      <th>col_2</th>\n",
       "      <th>col_3</th>\n",
       "      <th>col_3_add_col_2</th>\n",
       "      <th>col_0_truediv_col_1</th>\n",
       "      <th>col_3_truediv_col_1</th>\n",
       "      <th>col_2_sub_col_0</th>\n",
       "      <th>col_3_add_col_0</th>\n",
       "      <th>col_3_mul_col_0</th>\n",
       "      <th>col_0_truediv_col_3</th>\n",
       "      <th>col_1_truediv_col_0</th>\n",
       "      <th>col_2_mul_col_1</th>\n",
       "      <th>col_3_mul_col_2</th>\n",
       "      <th>col_3_mul_col_1</th>\n",
       "      <th>col_3_sub_col_1</th>\n",
       "      <th>col_1_truediv_col_3</th>\n",
       "      <th>col_3_sub_col_2</th>\n",
       "      <th>col_2_truediv_col_3</th>\n",
       "    </tr>\n",
       "  </thead>\n",
       "  <tbody>\n",
       "    <tr>\n",
       "      <th>73</th>\n",
       "      <td>6.1</td>\n",
       "      <td>2.8</td>\n",
       "      <td>4.7</td>\n",
       "      <td>1.2</td>\n",
       "      <td>5.9</td>\n",
       "      <td>2.178571</td>\n",
       "      <td>0.428571</td>\n",
       "      <td>-1.4</td>\n",
       "      <td>7.3</td>\n",
       "      <td>7.32</td>\n",
       "      <td>5.083333</td>\n",
       "      <td>0.459016</td>\n",
       "      <td>13.16</td>\n",
       "      <td>5.64</td>\n",
       "      <td>3.36</td>\n",
       "      <td>-1.6</td>\n",
       "      <td>2.333333</td>\n",
       "      <td>-3.5</td>\n",
       "      <td>3.916667</td>\n",
       "    </tr>\n",
       "    <tr>\n",
       "      <th>18</th>\n",
       "      <td>5.7</td>\n",
       "      <td>3.8</td>\n",
       "      <td>1.7</td>\n",
       "      <td>0.3</td>\n",
       "      <td>2.0</td>\n",
       "      <td>1.500000</td>\n",
       "      <td>0.078947</td>\n",
       "      <td>-4.0</td>\n",
       "      <td>6.0</td>\n",
       "      <td>1.71</td>\n",
       "      <td>19.000000</td>\n",
       "      <td>0.666667</td>\n",
       "      <td>6.46</td>\n",
       "      <td>0.51</td>\n",
       "      <td>1.14</td>\n",
       "      <td>-3.5</td>\n",
       "      <td>12.666667</td>\n",
       "      <td>-1.4</td>\n",
       "      <td>5.666667</td>\n",
       "    </tr>\n",
       "    <tr>\n",
       "      <th>118</th>\n",
       "      <td>7.7</td>\n",
       "      <td>2.6</td>\n",
       "      <td>6.9</td>\n",
       "      <td>2.3</td>\n",
       "      <td>9.2</td>\n",
       "      <td>2.961538</td>\n",
       "      <td>0.884615</td>\n",
       "      <td>-0.8</td>\n",
       "      <td>10.0</td>\n",
       "      <td>17.71</td>\n",
       "      <td>3.347826</td>\n",
       "      <td>0.337662</td>\n",
       "      <td>17.94</td>\n",
       "      <td>15.87</td>\n",
       "      <td>5.98</td>\n",
       "      <td>-0.3</td>\n",
       "      <td>1.130435</td>\n",
       "      <td>-4.6</td>\n",
       "      <td>3.000000</td>\n",
       "    </tr>\n",
       "    <tr>\n",
       "      <th>78</th>\n",
       "      <td>6.0</td>\n",
       "      <td>2.9</td>\n",
       "      <td>4.5</td>\n",
       "      <td>1.5</td>\n",
       "      <td>6.0</td>\n",
       "      <td>2.068966</td>\n",
       "      <td>0.517241</td>\n",
       "      <td>-1.5</td>\n",
       "      <td>7.5</td>\n",
       "      <td>9.00</td>\n",
       "      <td>4.000000</td>\n",
       "      <td>0.483333</td>\n",
       "      <td>13.05</td>\n",
       "      <td>6.75</td>\n",
       "      <td>4.35</td>\n",
       "      <td>-1.4</td>\n",
       "      <td>1.933333</td>\n",
       "      <td>-3.0</td>\n",
       "      <td>3.000000</td>\n",
       "    </tr>\n",
       "    <tr>\n",
       "      <th>76</th>\n",
       "      <td>6.8</td>\n",
       "      <td>2.8</td>\n",
       "      <td>4.8</td>\n",
       "      <td>1.4</td>\n",
       "      <td>6.2</td>\n",
       "      <td>2.428571</td>\n",
       "      <td>0.500000</td>\n",
       "      <td>-2.0</td>\n",
       "      <td>8.2</td>\n",
       "      <td>9.52</td>\n",
       "      <td>4.857143</td>\n",
       "      <td>0.411765</td>\n",
       "      <td>13.44</td>\n",
       "      <td>6.72</td>\n",
       "      <td>3.92</td>\n",
       "      <td>-1.4</td>\n",
       "      <td>2.000000</td>\n",
       "      <td>-3.4</td>\n",
       "      <td>3.428571</td>\n",
       "    </tr>\n",
       "  </tbody>\n",
       "</table>\n",
       "</div>"
      ],
      "text/plain": [
       "     col_0  col_1  col_2  col_3  col_3_add_col_2  col_0_truediv_col_1  \\\n",
       "73     6.1    2.8    4.7    1.2              5.9             2.178571   \n",
       "18     5.7    3.8    1.7    0.3              2.0             1.500000   \n",
       "118    7.7    2.6    6.9    2.3              9.2             2.961538   \n",
       "78     6.0    2.9    4.5    1.5              6.0             2.068966   \n",
       "76     6.8    2.8    4.8    1.4              6.2             2.428571   \n",
       "\n",
       "     col_3_truediv_col_1  col_2_sub_col_0  col_3_add_col_0  col_3_mul_col_0  \\\n",
       "73              0.428571             -1.4              7.3             7.32   \n",
       "18              0.078947             -4.0              6.0             1.71   \n",
       "118             0.884615             -0.8             10.0            17.71   \n",
       "78              0.517241             -1.5              7.5             9.00   \n",
       "76              0.500000             -2.0              8.2             9.52   \n",
       "\n",
       "     col_0_truediv_col_3  col_1_truediv_col_0  col_2_mul_col_1  \\\n",
       "73              5.083333             0.459016            13.16   \n",
       "18             19.000000             0.666667             6.46   \n",
       "118             3.347826             0.337662            17.94   \n",
       "78              4.000000             0.483333            13.05   \n",
       "76              4.857143             0.411765            13.44   \n",
       "\n",
       "     col_3_mul_col_2  col_3_mul_col_1  col_3_sub_col_1  col_1_truediv_col_3  \\\n",
       "73              5.64             3.36             -1.6             2.333333   \n",
       "18              0.51             1.14             -3.5            12.666667   \n",
       "118            15.87             5.98             -0.3             1.130435   \n",
       "78              6.75             4.35             -1.4             1.933333   \n",
       "76              6.72             3.92             -1.4             2.000000   \n",
       "\n",
       "     col_3_sub_col_2  col_2_truediv_col_3  \n",
       "73              -3.5             3.916667  \n",
       "18              -1.4             5.666667  \n",
       "118             -4.6             3.000000  \n",
       "78              -3.0             3.000000  \n",
       "76              -3.4             3.428571  "
      ]
     },
     "execution_count": 23,
     "metadata": {},
     "output_type": "execute_result"
    }
   ],
   "source": [
    "X_test.head()"
   ]
  },
  {
   "cell_type": "code",
   "execution_count": 24,
   "metadata": {},
   "outputs": [
    {
     "name": "stdout",
     "output_type": "stream",
     "text": [
      "Accuracy: 1.00\n",
      "Precision: 1.00\n",
      "Recall: 1.00\n",
      "F1 score: 1.00\n"
     ]
    }
   ],
   "source": [
    "y_pred = train_and_predict(logistic_clf, X_train, X_test, y_train)\n",
    "display_metrics(y_test, y_pred)"
   ]
  },
  {
   "cell_type": "code",
   "execution_count": null,
   "metadata": {
    "collapsed": true
   },
   "outputs": [],
   "source": []
  }
 ],
 "metadata": {
  "kernelspec": {
   "display_name": "Python 3",
   "language": "python",
   "name": "python3"
  },
  "language_info": {
   "codemirror_mode": {
    "name": "ipython",
    "version": 3
   },
   "file_extension": ".py",
   "mimetype": "text/x-python",
   "name": "python",
   "nbconvert_exporter": "python",
   "pygments_lexer": "ipython3",
   "version": "3.6.3"
  }
 },
 "nbformat": 4,
 "nbformat_minor": 2
}
