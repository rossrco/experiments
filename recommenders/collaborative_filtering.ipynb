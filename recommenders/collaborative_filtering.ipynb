{
  "nbformat": 4,
  "nbformat_minor": 0,
  "metadata": {
    "colab": {
      "name": "collaborative_filtering.ipynb",
      "provenance": [],
      "collapsed_sections": []
    },
    "kernelspec": {
      "name": "python3",
      "display_name": "Python 3"
    },
    "language_info": {
      "name": "python"
    }
  },
  "cells": [
    {
      "cell_type": "code",
      "metadata": {
        "colab": {
          "base_uri": "https://localhost:8080/"
        },
        "id": "cUE9UGLylrLS",
        "outputId": "e3d8a26c-d40d-4ee2-c8c8-7791abb88c4c"
      },
      "source": [
        "!pip install pyspark"
      ],
      "execution_count": 1,
      "outputs": [
        {
          "output_type": "stream",
          "text": [
            "Collecting pyspark\n",
            "\u001b[?25l  Downloading https://files.pythonhosted.org/packages/45/b0/9d6860891ab14a39d4bddf80ba26ce51c2f9dc4805e5c6978ac0472c120a/pyspark-3.1.1.tar.gz (212.3MB)\n",
            "\u001b[K     |████████████████████████████████| 212.3MB 71kB/s \n",
            "\u001b[?25hCollecting py4j==0.10.9\n",
            "\u001b[?25l  Downloading https://files.pythonhosted.org/packages/9e/b6/6a4fb90cd235dc8e265a6a2067f2a2c99f0d91787f06aca4bcf7c23f3f80/py4j-0.10.9-py2.py3-none-any.whl (198kB)\n",
            "\u001b[K     |████████████████████████████████| 204kB 34.6MB/s \n",
            "\u001b[?25hBuilding wheels for collected packages: pyspark\n",
            "  Building wheel for pyspark (setup.py) ... \u001b[?25l\u001b[?25hdone\n",
            "  Created wheel for pyspark: filename=pyspark-3.1.1-py2.py3-none-any.whl size=212767604 sha256=d540481936db58c8425cf3d058cceb95cb83260c6f2f26e83502cb2ec7c380aa\n",
            "  Stored in directory: /root/.cache/pip/wheels/0b/90/c0/01de724414ef122bd05f056541fb6a0ecf47c7ca655f8b3c0f\n",
            "Successfully built pyspark\n",
            "Installing collected packages: py4j, pyspark\n",
            "Successfully installed py4j-0.10.9 pyspark-3.1.1\n"
          ],
          "name": "stdout"
        }
      ]
    },
    {
      "cell_type": "code",
      "metadata": {
        "id": "f4lLL4b3mFqy"
      },
      "source": [
        "from pyspark.sql import SparkSession\n",
        "from pyspark.sql import types as T\n",
        "from pyspark.sql import functions as F\n",
        "from pyspark.ml.recommendation import ALS\n",
        "from pyspark.ml.evaluation import RankingEvaluator\n",
        "\n",
        "spark = SparkSession.builder.master('local[*]').getOrCreate()"
      ],
      "execution_count": 2,
      "outputs": []
    },
    {
      "cell_type": "code",
      "metadata": {
        "id": "SjgaQ_9umI2j"
      },
      "source": [
        "def download_dataset():\n",
        "  print('Downloading movielens data...')\n",
        "  from urllib.request import urlretrieve\n",
        "  import zipfile\n",
        "\n",
        "  url = 'http://files.grouplens.org/datasets/movielens/ml-100k.zip'\n",
        "  dest_file = 'movielens.zip'\n",
        "\n",
        "  urlretrieve(url, dest_file)\n",
        "  zip_ref = zipfile.ZipFile(dest_file, 'r')\n",
        "  zip_ref.extractall()\n",
        "  print('Done. Dataset contains:')\n",
        "  print(zip_ref.read('ml-100k/u.info'))\n",
        "\n",
        "\n",
        "def read_ratings():\n",
        "  print('Reading the ratings file...')\n",
        "  ratings_schema = T.StructType(\n",
        "      [T.StructField('user_id', T.DoubleType(), False),\n",
        "       T.StructField('movie_id', T.DoubleType(), True),\n",
        "       T.StructField('rating', T.DoubleType(), True),\n",
        "       T.StructField('unix_timestamp', T.LongType(), True)]\n",
        "       )\n",
        "\n",
        "  ratings = (spark.read\n",
        "             .load('ml-100k/u.data', format='csv', sep='\\t',\n",
        "                   header='false', schema=ratings_schema)\n",
        "             .withColumn('unix_timestamp',\n",
        "                         F.to_timestamp(F.col('unix_timestamp'))))\n",
        "\n",
        "  print(f'Ingested {ratings.count()} ratings.')\n",
        "  return ratings"
      ],
      "execution_count": 3,
      "outputs": []
    },
    {
      "cell_type": "code",
      "metadata": {
        "colab": {
          "base_uri": "https://localhost:8080/"
        },
        "id": "Al_P-31TmMD-",
        "outputId": "c3fdc38a-2c39-477e-a01c-9417be4d0343"
      },
      "source": [
        "download_dataset()\n",
        "\n",
        "ratings = read_ratings()"
      ],
      "execution_count": 4,
      "outputs": [
        {
          "output_type": "stream",
          "text": [
            "Downloading movielens data...\n",
            "Done. Dataset contains:\n",
            "b'943 users\\n1682 items\\n100000 ratings\\n'\n",
            "Reading the ratings file...\n",
            "Ingested 100000 ratings.\n"
          ],
          "name": "stdout"
        }
      ]
    },
    {
      "cell_type": "code",
      "metadata": {
        "colab": {
          "base_uri": "https://localhost:8080/"
        },
        "id": "TDK1dQotmjmg",
        "outputId": "ca5efaca-5890-419f-da1e-316273b42bbe"
      },
      "source": [
        "ratings.show()"
      ],
      "execution_count": 5,
      "outputs": [
        {
          "output_type": "stream",
          "text": [
            "+-------+--------+------+-------------------+\n",
            "|user_id|movie_id|rating|     unix_timestamp|\n",
            "+-------+--------+------+-------------------+\n",
            "|  196.0|   242.0|   3.0|1997-12-04 15:55:49|\n",
            "|  186.0|   302.0|   3.0|1998-04-04 19:22:22|\n",
            "|   22.0|   377.0|   1.0|1997-11-07 07:18:36|\n",
            "|  244.0|    51.0|   2.0|1997-11-27 05:02:03|\n",
            "|  166.0|   346.0|   1.0|1998-02-02 05:33:16|\n",
            "|  298.0|   474.0|   4.0|1998-01-07 14:20:06|\n",
            "|  115.0|   265.0|   2.0|1997-12-03 17:51:28|\n",
            "|  253.0|   465.0|   5.0|1998-04-03 18:34:27|\n",
            "|  305.0|   451.0|   3.0|1998-02-01 09:20:17|\n",
            "|    6.0|    86.0|   3.0|1997-12-31 21:16:53|\n",
            "|   62.0|   257.0|   2.0|1997-11-12 22:07:14|\n",
            "|  286.0|  1014.0|   5.0|1997-11-17 15:38:45|\n",
            "|  200.0|   222.0|   5.0|1997-10-05 09:05:40|\n",
            "|  210.0|    40.0|   3.0|1998-03-27 21:59:54|\n",
            "|  224.0|    29.0|   3.0|1998-02-21 23:40:57|\n",
            "|  303.0|   785.0|   3.0|1997-11-14 05:28:38|\n",
            "|  122.0|   387.0|   5.0|1997-11-11 17:47:39|\n",
            "|  194.0|   274.0|   2.0|1997-11-14 20:36:34|\n",
            "|  291.0|  1042.0|   4.0|1997-09-21 09:42:24|\n",
            "|  234.0|  1184.0|   2.0|1998-04-08 23:47:17|\n",
            "+-------+--------+------+-------------------+\n",
            "only showing top 20 rows\n",
            "\n"
          ],
          "name": "stdout"
        }
      ]
    },
    {
      "cell_type": "code",
      "metadata": {
        "id": "L55sBDEVmmOI"
      },
      "source": [
        "train, test = ratings.randomSplit(weights=[0.8, 0.2], seed=42)"
      ],
      "execution_count": 6,
      "outputs": []
    },
    {
      "cell_type": "code",
      "metadata": {
        "id": "Cbb-lW3ymqTl"
      },
      "source": [
        "model = ALS(userCol='user_id',\n",
        "            itemCol='movie_id',\n",
        "            ratingCol='rating').fit(train)"
      ],
      "execution_count": 7,
      "outputs": []
    },
    {
      "cell_type": "code",
      "metadata": {
        "colab": {
          "base_uri": "https://localhost:8080/"
        },
        "id": "MwUDS7VJmsoS",
        "outputId": "47a17067-58ef-4b7e-8c46-96bcf4564ad4"
      },
      "source": [
        "k = 3\n",
        "test_recomm = model.recommendForUserSubset(dataset=test, numItems=k)\n",
        "test_recomm = (test_recomm\n",
        "               .withColumn('recommended_movies',\n",
        "                           F.col('recommendations')\n",
        "                           .movie_id.cast(T.ArrayType(T.DoubleType()))))\n",
        "\n",
        "test_recomm.show(truncate=False)"
      ],
      "execution_count": 8,
      "outputs": [
        {
          "output_type": "stream",
          "text": [
            "+-------+--------------------------------------------------------+------------------------+\n",
            "|user_id|recommendations                                         |recommended_movies      |\n",
            "+-------+--------------------------------------------------------+------------------------+\n",
            "|471    |[{342, 4.8859982}, {1605, 4.8586993}, {349, 4.8451447}] |[342.0, 1605.0, 349.0]  |\n",
            "|463    |[{1449, 4.3137207}, {318, 4.171251}, {1344, 4.1497726}] |[1449.0, 318.0, 1344.0] |\n",
            "|833    |[{1368, 4.777424}, {1597, 4.737522}, {1643, 4.4611235}] |[1368.0, 1597.0, 1643.0]|\n",
            "|496    |[{253, 4.6821923}, {1022, 4.625275}, {1449, 4.481355}]  |[253.0, 1022.0, 1449.0] |\n",
            "|148    |[{1129, 5.6085124}, {919, 4.9986076}, {408, 4.943635}]  |[1129.0, 919.0, 408.0]  |\n",
            "|540    |[{1449, 5.018511}, {1643, 4.7956796}, {1398, 4.7175856}]|[1449.0, 1643.0, 1398.0]|\n",
            "|392    |[{1643, 5.790415}, {1398, 5.0850043}, {119, 5.034845}]  |[1643.0, 1398.0, 119.0] |\n",
            "|243    |[{1449, 4.7110043}, {1512, 4.432862}, {1398, 4.387753}] |[1449.0, 1512.0, 1398.0]|\n",
            "|623    |[{1233, 4.60893}, {1194, 4.550028}, {694, 4.5456624}]   |[1233.0, 1194.0, 694.0] |\n",
            "|737    |[{856, 4.9471164}, {1449, 4.772199}, {512, 4.6571455}]  |[856.0, 1449.0, 512.0]  |\n",
            "|897    |[{313, 4.9228754}, {963, 4.8890657}, {1169, 4.884104}]  |[313.0, 963.0, 1169.0]  |\n",
            "|858    |[{1174, 4.4815445}, {1643, 4.4323664}, {127, 4.3573484}]|[1174.0, 1643.0, 127.0] |\n",
            "|31     |[{1643, 4.97745}, {1085, 4.7880144}, {851, 4.764918}]   |[1643.0, 1085.0, 851.0] |\n",
            "|516    |[{1449, 5.4088173}, {1137, 5.1391096}, {904, 5.0410414}]|[1449.0, 1137.0, 904.0] |\n",
            "|580    |[{1240, 5.200676}, {267, 4.988187}, {1483, 4.890161}]   |[1240.0, 267.0, 1483.0] |\n",
            "|251    |[{1643, 5.078754}, {1467, 4.843526}, {119, 4.7771535}]  |[1643.0, 1467.0, 119.0] |\n",
            "|451    |[{914, 4.59689}, {834, 4.3355513}, {1268, 4.2969637}]   |[914.0, 834.0, 1268.0]  |\n",
            "|85     |[{1643, 4.7287188}, {1449, 4.4263134}, {119, 4.342994}] |[1643.0, 1449.0, 119.0] |\n",
            "|137    |[{1268, 5.8283887}, {1019, 5.63325}, {228, 5.374713}]   |[1268.0, 1019.0, 228.0] |\n",
            "|808    |[{1643, 6.2930017}, {320, 5.7943177}, {1268, 5.5916996}]|[1643.0, 320.0, 1268.0] |\n",
            "+-------+--------------------------------------------------------+------------------------+\n",
            "only showing top 20 rows\n",
            "\n"
          ],
          "name": "stdout"
        }
      ]
    },
    {
      "cell_type": "code",
      "metadata": {
        "id": "8llRsjsHg9W0"
      },
      "source": [
        "test_pivot = (test\n",
        "              .orderBy('rating', ascending=False)\n",
        "              .withColumn('id_ratings', F.create_map('movie_id', 'rating'))\n",
        "              .groupBy('user_id').agg(\n",
        "                  F.collect_list('movie_id').alias('movie_list'),\n",
        "                  F.collect_list('rating').alias('ratings_list'),\n",
        "                  F.collect_list('id_ratings').alias('id_ratings_list')))"
      ],
      "execution_count": 9,
      "outputs": []
    },
    {
      "cell_type": "code",
      "metadata": {
        "id": "HGS11QIghcVs"
      },
      "source": [
        "eval_set = (test_recomm\n",
        "            .join(test_pivot.select(F.col('user_id'),\n",
        "                                    F.slice('movie_list', start=1, length=3)\n",
        "                                    .alias('movie_list')),\n",
        "                  on='user_id', how='inner'))"
      ],
      "execution_count": 21,
      "outputs": []
    },
    {
      "cell_type": "code",
      "metadata": {
        "colab": {
          "base_uri": "https://localhost:8080/"
        },
        "id": "tx26BmXrh2LW",
        "outputId": "a77ba0eb-04c0-414a-fff9-83f4498e7bb9"
      },
      "source": [
        "eval_set.show()"
      ],
      "execution_count": 22,
      "outputs": [
        {
          "output_type": "stream",
          "text": [
            "+-------+--------------------+--------------------+--------------------+\n",
            "|user_id|     recommendations|  recommended_movies|          movie_list|\n",
            "+-------+--------------------+--------------------+--------------------+\n",
            "|    471|[{342, 4.8859982}...|[342.0, 1605.0, 3...|[393.0, 477.0, 93...|\n",
            "|    463|[{1449, 4.3137207...|[1449.0, 318.0, 1...|[124.0, 301.0, 50.0]|\n",
            "|    833|[{1368, 4.777424}...|[1368.0, 1597.0, ...| [11.0, 47.0, 168.0]|\n",
            "|    496|[{253, 4.6821923}...|[253.0, 1022.0, 1...|[133.0, 181.0, 43...|\n",
            "|    148|[{1129, 5.6085124...|[1129.0, 919.0, 4...| [56.0, 71.0, 133.0]|\n",
            "|    540|[{1449, 5.018511}...|[1449.0, 1643.0, ...|[515.0, 13.0, 222.0]|\n",
            "|    392|[{1643, 5.790415}...|[1643.0, 1398.0, ...|[50.0, 172.0, 302.0]|\n",
            "|    243|[{1449, 4.7110043...|[1449.0, 1512.0, ...|[157.0, 285.0, 12...|\n",
            "|    623|[{1233, 4.60893},...|[1233.0, 1194.0, ...|[210.0, 483.0, 66.0]|\n",
            "|    737|[{856, 4.9471164}...|[856.0, 1449.0, 5...|[127.0, 192.0, 47...|\n",
            "|    897|[{313, 4.9228754}...|[313.0, 963.0, 11...|[71.0, 132.0, 151.0]|\n",
            "|    858|[{1174, 4.4815445...|[1174.0, 1643.0, ...|[127.0, 754.0, 10...|\n",
            "|     31|[{1643, 4.97745},...|[1643.0, 1085.0, ...|[484.0, 504.0, 51...|\n",
            "|    516|[{1449, 5.4088173...|[1449.0, 1137.0, ...|[474.0, 194.0, 20...|\n",
            "|    580|[{1240, 5.200676}...|[1240.0, 267.0, 1...|[271.0, 282.0, 28...|\n",
            "|    251|[{1643, 5.078754}...|[1643.0, 1467.0, ...|  [22.0, 50.0, 79.0]|\n",
            "|    451|[{914, 4.59689}, ...|[914.0, 834.0, 12...|[328.0, 331.0, 67...|\n",
            "|     85|[{1643, 4.7287188...|[1643.0, 1449.0, ...|  [152.0, 9.0, 23.0]|\n",
            "|    137|[{1268, 5.8283887...|[1268.0, 1019.0, ...|[183.0, 385.0, 41...|\n",
            "|    808|[{1643, 6.2930017...|[1643.0, 320.0, 1...|[302.0, 313.0, 30...|\n",
            "+-------+--------------------+--------------------+--------------------+\n",
            "only showing top 20 rows\n",
            "\n"
          ],
          "name": "stdout"
        }
      ]
    },
    {
      "cell_type": "code",
      "metadata": {
        "id": "-v8anPZJihls"
      },
      "source": [
        "eval = RankingEvaluator(predictionCol='recommended_movies',\n",
        "                        labelCol='movie_list',\n",
        "                        metricName='meanAveragePrecision', k=k)"
      ],
      "execution_count": 23,
      "outputs": []
    },
    {
      "cell_type": "markdown",
      "metadata": {
        "id": "AHXbaufXpZWQ"
      },
      "source": [
        "Precision @ K: $p(k)=\\frac{1}{M}\\sum_{i=0}^{M-1}\\frac{1}{k}\\sum_{j=0}^{min(Q_i, k)^-1}rel_{D_i}(R_i(j))$"
      ]
    },
    {
      "cell_type": "code",
      "metadata": {
        "colab": {
          "base_uri": "https://localhost:8080/"
        },
        "id": "X8L-du9zihi4",
        "outputId": "70bd07a9-47d4-40c6-f340-4090c3c850c5"
      },
      "source": [
        "eval.evaluate(eval_set)"
      ],
      "execution_count": 24,
      "outputs": [
        {
          "output_type": "execute_result",
          "data": {
            "text/plain": [
              "0.005478967833156589"
            ]
          },
          "metadata": {
            "tags": []
          },
          "execution_count": 24
        }
      ]
    },
    {
      "cell_type": "code",
      "metadata": {
        "id": "Ku49bBAopUYh"
      },
      "source": [
        ""
      ],
      "execution_count": 14,
      "outputs": []
    }
  ]
}