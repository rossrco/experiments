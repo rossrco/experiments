{
  "nbformat": 4,
  "nbformat_minor": 0,
  "metadata": {
    "colab": {
      "name": "collaborative_filtering.ipynb",
      "provenance": [],
      "collapsed_sections": []
    },
    "kernelspec": {
      "name": "python3",
      "display_name": "Python 3"
    },
    "language_info": {
      "name": "python"
    }
  },
  "cells": [
    {
      "cell_type": "code",
      "metadata": {
        "colab": {
          "base_uri": "https://localhost:8080/"
        },
        "id": "cUE9UGLylrLS",
        "outputId": "0da7f80a-6d62-4db2-a6f3-db99834cabea"
      },
      "source": [
        "!pip install pyspark"
      ],
      "execution_count": null,
      "outputs": [
        {
          "output_type": "stream",
          "text": [
            "Collecting pyspark\n",
            "\u001b[?25l  Downloading https://files.pythonhosted.org/packages/45/b0/9d6860891ab14a39d4bddf80ba26ce51c2f9dc4805e5c6978ac0472c120a/pyspark-3.1.1.tar.gz (212.3MB)\n",
            "\u001b[K     |████████████████████████████████| 212.3MB 72kB/s \n",
            "\u001b[?25hCollecting py4j==0.10.9\n",
            "\u001b[?25l  Downloading https://files.pythonhosted.org/packages/9e/b6/6a4fb90cd235dc8e265a6a2067f2a2c99f0d91787f06aca4bcf7c23f3f80/py4j-0.10.9-py2.py3-none-any.whl (198kB)\n",
            "\u001b[K     |████████████████████████████████| 204kB 39.6MB/s \n",
            "\u001b[?25hBuilding wheels for collected packages: pyspark\n",
            "  Building wheel for pyspark (setup.py) ... \u001b[?25l\u001b[?25hdone\n",
            "  Created wheel for pyspark: filename=pyspark-3.1.1-py2.py3-none-any.whl size=212767604 sha256=12288bb33d7966d2fc5c18eb4f13342d08947707a574f8192ff718b7925cdea0\n",
            "  Stored in directory: /root/.cache/pip/wheels/0b/90/c0/01de724414ef122bd05f056541fb6a0ecf47c7ca655f8b3c0f\n",
            "Successfully built pyspark\n",
            "Installing collected packages: py4j, pyspark\n",
            "Successfully installed py4j-0.10.9 pyspark-3.1.1\n"
          ],
          "name": "stdout"
        }
      ]
    },
    {
      "cell_type": "code",
      "metadata": {
        "id": "f4lLL4b3mFqy"
      },
      "source": [
        "from pyspark.sql import SparkSession\n",
        "from pyspark.sql import types as T\n",
        "from pyspark.sql import functions as F\n",
        "from pyspark.ml.recommendation import ALS\n",
        "from pyspark.ml.evaluation import RankingEvaluator\n",
        "\n",
        "spark = SparkSession.builder.master('local[*]').getOrCreate()"
      ],
      "execution_count": null,
      "outputs": []
    },
    {
      "cell_type": "code",
      "metadata": {
        "id": "SjgaQ_9umI2j"
      },
      "source": [
        "def download_dataset():\n",
        "  print('Downloading movielens data...')\n",
        "  from urllib.request import urlretrieve\n",
        "  import zipfile\n",
        "\n",
        "  url = 'http://files.grouplens.org/datasets/movielens/ml-100k.zip'\n",
        "  dest_file = 'movielens.zip'\n",
        "\n",
        "  urlretrieve(url, dest_file)\n",
        "  zip_ref = zipfile.ZipFile(dest_file, 'r')\n",
        "  zip_ref.extractall()\n",
        "  print('Done. Dataset contains:')\n",
        "  print(zip_ref.read('ml-100k/u.info'))\n",
        "\n",
        "\n",
        "def read_ratings():\n",
        "  print('Reading the ratings file...')\n",
        "  ratings_schema = T.StructType(\n",
        "      [T.StructField('user_id', T.DoubleType(), False),\n",
        "       T.StructField('movie_id', T.DoubleType(), True),\n",
        "       T.StructField('rating', T.DoubleType(), True),\n",
        "       T.StructField('unix_timestamp', T.LongType(), True)]\n",
        "       )\n",
        "\n",
        "  ratings = (spark.read\n",
        "             .load('ml-100k/u.data', format='csv', sep='\\t',\n",
        "                   header='false', schema=ratings_schema)\n",
        "             .withColumn('unix_timestamp',\n",
        "                         F.to_timestamp(F.col('unix_timestamp'))))\n",
        "\n",
        "  print(f'Ingested {ratings.count()} ratings.')\n",
        "  return ratings"
      ],
      "execution_count": null,
      "outputs": []
    },
    {
      "cell_type": "code",
      "metadata": {
        "colab": {
          "base_uri": "https://localhost:8080/"
        },
        "id": "Al_P-31TmMD-",
        "outputId": "fce967d6-e1c5-44d2-8458-092841a20859"
      },
      "source": [
        "download_dataset()\n",
        "\n",
        "ratings = read_ratings()"
      ],
      "execution_count": null,
      "outputs": [
        {
          "output_type": "stream",
          "text": [
            "Downloading movielens data...\n",
            "Done. Dataset contains:\n",
            "b'943 users\\n1682 items\\n100000 ratings\\n'\n",
            "Reading the ratings file...\n",
            "Ingested 100000 ratings.\n"
          ],
          "name": "stdout"
        }
      ]
    },
    {
      "cell_type": "code",
      "metadata": {
        "colab": {
          "base_uri": "https://localhost:8080/"
        },
        "id": "TDK1dQotmjmg",
        "outputId": "ea3fcc70-31f4-42e8-cdcf-95121c5d8df7"
      },
      "source": [
        "ratings.show()"
      ],
      "execution_count": null,
      "outputs": [
        {
          "output_type": "stream",
          "text": [
            "+-------+--------+------+-------------------+\n",
            "|user_id|movie_id|rating|     unix_timestamp|\n",
            "+-------+--------+------+-------------------+\n",
            "|  196.0|   242.0|   3.0|1997-12-04 15:55:49|\n",
            "|  186.0|   302.0|   3.0|1998-04-04 19:22:22|\n",
            "|   22.0|   377.0|   1.0|1997-11-07 07:18:36|\n",
            "|  244.0|    51.0|   2.0|1997-11-27 05:02:03|\n",
            "|  166.0|   346.0|   1.0|1998-02-02 05:33:16|\n",
            "|  298.0|   474.0|   4.0|1998-01-07 14:20:06|\n",
            "|  115.0|   265.0|   2.0|1997-12-03 17:51:28|\n",
            "|  253.0|   465.0|   5.0|1998-04-03 18:34:27|\n",
            "|  305.0|   451.0|   3.0|1998-02-01 09:20:17|\n",
            "|    6.0|    86.0|   3.0|1997-12-31 21:16:53|\n",
            "|   62.0|   257.0|   2.0|1997-11-12 22:07:14|\n",
            "|  286.0|  1014.0|   5.0|1997-11-17 15:38:45|\n",
            "|  200.0|   222.0|   5.0|1997-10-05 09:05:40|\n",
            "|  210.0|    40.0|   3.0|1998-03-27 21:59:54|\n",
            "|  224.0|    29.0|   3.0|1998-02-21 23:40:57|\n",
            "|  303.0|   785.0|   3.0|1997-11-14 05:28:38|\n",
            "|  122.0|   387.0|   5.0|1997-11-11 17:47:39|\n",
            "|  194.0|   274.0|   2.0|1997-11-14 20:36:34|\n",
            "|  291.0|  1042.0|   4.0|1997-09-21 09:42:24|\n",
            "|  234.0|  1184.0|   2.0|1998-04-08 23:47:17|\n",
            "+-------+--------+------+-------------------+\n",
            "only showing top 20 rows\n",
            "\n"
          ],
          "name": "stdout"
        }
      ]
    },
    {
      "cell_type": "code",
      "metadata": {
        "id": "L55sBDEVmmOI"
      },
      "source": [
        "train, test = ratings.randomSplit(weights=[0.8, 0.2], seed=42)"
      ],
      "execution_count": null,
      "outputs": []
    },
    {
      "cell_type": "code",
      "metadata": {
        "id": "Cbb-lW3ymqTl"
      },
      "source": [
        "model = ALS(userCol='user_id',\n",
        "            itemCol='movie_id',\n",
        "            ratingCol='rating').fit(train)"
      ],
      "execution_count": null,
      "outputs": []
    },
    {
      "cell_type": "code",
      "metadata": {
        "colab": {
          "base_uri": "https://localhost:8080/"
        },
        "id": "MwUDS7VJmsoS",
        "outputId": "6a8a2f09-c220-4304-c65e-32e96f4c265e"
      },
      "source": [
        "k = 3\n",
        "test_recomm = model.recommendForUserSubset(dataset=test, numItems=k)\n",
        "test_recomm = test_recomm.withColumn('recommended_movies',\n",
        "                                     F.col('recommendations').movie_id.cast(T.ArrayType(T.DoubleType())))\n",
        "test_recomm.show(truncate=False)"
      ],
      "execution_count": null,
      "outputs": [
        {
          "output_type": "stream",
          "text": [
            "+-------+---------------------------------------------------------+------------------------+\n",
            "|user_id|recommendations                                          |recommended_movies      |\n",
            "+-------+---------------------------------------------------------+------------------------+\n",
            "|471    |[{862, 5.117396}, {680, 4.810842}, {349, 4.665866}]      |[862.0, 680.0, 349.0]   |\n",
            "|463    |[{1240, 4.529101}, {1449, 4.3274264}, {1104, 4.1321487}] |[1240.0, 1449.0, 1104.0]|\n",
            "|833    |[{1368, 5.0700154}, {1597, 4.704284}, {320, 4.494964}]   |[1368.0, 1597.0, 320.0] |\n",
            "|496    |[{695, 4.4890313}, {1449, 4.4207177}, {1022, 4.399894}]  |[695.0, 1449.0, 1022.0] |\n",
            "|148    |[{1129, 5.558813}, {1084, 5.403372}, {1410, 5.206335}]   |[1129.0, 1084.0, 1410.0]|\n",
            "|540    |[{1449, 5.127593}, {1398, 4.7999997}, {1643, 4.693313}]  |[1449.0, 1398.0, 1643.0]|\n",
            "|392    |[{1643, 5.569833}, {1449, 5.0185084}, {1398, 5.0121846}] |[1643.0, 1449.0, 1398.0]|\n",
            "|243    |[{1449, 4.6866884}, {1398, 4.4519615}, {1628, 4.286181}] |[1449.0, 1398.0, 1628.0]|\n",
            "|623    |[{1643, 4.537459}, {496, 4.443279}, {900, 4.438679}]     |[1643.0, 496.0, 900.0]  |\n",
            "|737    |[{1449, 4.958984}, {1405, 4.7278028}, {1240, 4.6823483}] |[1449.0, 1405.0, 1240.0]|\n",
            "|897    |[{1643, 5.494904}, {64, 4.85419}, {1169, 4.792407}]      |[1643.0, 64.0, 1169.0]  |\n",
            "|858    |[{320, 4.7722836}, {767, 4.693248}, {1591, 4.2911863}]   |[320.0, 767.0, 1591.0]  |\n",
            "|31     |[{1524, 5.2511134}, {1367, 5.0294285}, {1536, 4.9053373}]|[1524.0, 1367.0, 1536.0]|\n",
            "|516    |[{1449, 5.1921144}, {1628, 5.099268}, {1642, 5.048394}]  |[1449.0, 1628.0, 1642.0]|\n",
            "|580    |[{1268, 5.6815205}, {1410, 5.605952}, {1467, 4.6472497}] |[1268.0, 1410.0, 1467.0]|\n",
            "|251    |[{1449, 4.889819}, {1643, 4.8112597}, {1467, 4.730472}]  |[1449.0, 1643.0, 1467.0]|\n",
            "|451    |[{850, 4.798083}, {914, 4.469331}, {1612, 4.465746}]     |[850.0, 914.0, 1612.0]  |\n",
            "|85     |[{1643, 4.7954707}, {1449, 4.356413}, {1398, 4.355062}]  |[1643.0, 1449.0, 1398.0]|\n",
            "|137    |[{1169, 5.6662703}, {1607, 5.6545253}, {1019, 5.649866}] |[1169.0, 1607.0, 1019.0]|\n",
            "|808    |[{1643, 6.0059047}, {1388, 5.654586}, {1450, 5.649331}]  |[1643.0, 1388.0, 1450.0]|\n",
            "+-------+---------------------------------------------------------+------------------------+\n",
            "only showing top 20 rows\n",
            "\n"
          ],
          "name": "stdout"
        }
      ]
    },
    {
      "cell_type": "code",
      "metadata": {
        "id": "8llRsjsHg9W0"
      },
      "source": [
        "# window partition over user_id sort by rating\n",
        "\n",
        "test_pivot = (test\n",
        "              .withColumn('id_ratings', F.create_map('movie_id', 'rating'))\n",
        "              .groupBy('user_id').agg(\n",
        "                  F.collect_list('movie_id').alias('movie_list'),\n",
        "                  F.collect_list('rating').alias('ratings_list'),\n",
        "                  F.collect_list('id_ratings').alias('id_ratings_list')))"
      ],
      "execution_count": null,
      "outputs": []
    },
    {
      "cell_type": "code",
      "metadata": {
        "colab": {
          "base_uri": "https://localhost:8080/"
        },
        "id": "BKQA8iFchcel",
        "outputId": "600165c4-4b09-4825-ffa5-58fa490c333d"
      },
      "source": [
        "test_pivot.show()"
      ],
      "execution_count": null,
      "outputs": [
        {
          "output_type": "stream",
          "text": [
            "+-------+--------------------+--------------------+--------------------+\n",
            "|user_id|          movie_list|        ratings_list|     id_ratings_list|\n",
            "+-------+--------------------+--------------------+--------------------+\n",
            "|  299.0|[1.0, 19.0, 20.0,...|[3.0, 1.0, 3.0, 3...|[{1.0 -> 3.0}, {1...|\n",
            "|  305.0|[2.0, 13.0, 15.0,...|[2.0, 3.0, 1.0, 3...|[{2.0 -> 2.0}, {1...|\n",
            "|  496.0|[17.0, 88.0, 99.0...|[3.0, 1.0, 3.0, 5...|[{17.0 -> 3.0}, {...|\n",
            "|  558.0|             [508.0]|               [5.0]|    [{508.0 -> 5.0}]|\n",
            "|  596.0|[288.0, 289.0, 30...|[4.0, 3.0, 4.0, 3.0]|[{288.0 -> 4.0}, ...|\n",
            "|  692.0|[1.0, 25.0, 168.0...|[4.0, 4.0, 2.0, 4...|[{1.0 -> 4.0}, {2...|\n",
            "|  769.0|[237.0, 685.0, 74...|     [3.0, 3.0, 2.0]|[{237.0 -> 3.0}, ...|\n",
            "|  934.0|[65.0, 88.0, 121....|[4.0, 4.0, 3.0, 3...|[{65.0 -> 4.0}, {...|\n",
            "|  147.0|[258.0, 313.0, 93...|     [4.0, 4.0, 3.0]|[{258.0 -> 4.0}, ...|\n",
            "|  170.0|[300.0, 304.0, 32...|[5.0, 4.0, 5.0, 3...|[{300.0 -> 5.0}, ...|\n",
            "|  184.0|[44.0, 47.0, 51.0...|[4.0, 4.0, 4.0, 4...|[{44.0 -> 4.0}, {...|\n",
            "|  576.0|[1.0, 9.0, 137.0,...|[4.0, 3.0, 3.0, 4...|[{1.0 -> 4.0}, {9...|\n",
            "|  720.0|[302.0, 311.0, 34...|[5.0, 5.0, 3.0, 4.0]|[{302.0 -> 5.0}, ...|\n",
            "|  782.0|[181.0, 243.0, 24...|[3.0, 3.0, 4.0, 4...|[{181.0 -> 3.0}, ...|\n",
            "|  810.0|[243.0, 286.0, 30...|[4.0, 4.0, 5.0, 5...|[{243.0 -> 4.0}, ...|\n",
            "|  160.0|[9.0, 24.0, 50.0,...|[3.0, 5.0, 4.0, 4...|[{9.0 -> 3.0}, {2...|\n",
            "|  169.0|[429.0, 443.0, 49...|[3.0, 4.0, 3.0, 3...|[{429.0 -> 3.0}, ...|\n",
            "|  608.0|[8.0, 11.0, 22.0,...|[2.0, 5.0, 4.0, 5...|[{8.0 -> 2.0}, {1...|\n",
            "|  735.0|[50.0, 124.0, 126...|[5.0, 5.0, 3.0, 4...|[{50.0 -> 5.0}, {...|\n",
            "|    8.0|[11.0, 55.0, 403....|[3.0, 5.0, 4.0, 2...|[{11.0 -> 3.0}, {...|\n",
            "+-------+--------------------+--------------------+--------------------+\n",
            "only showing top 20 rows\n",
            "\n"
          ],
          "name": "stdout"
        }
      ]
    },
    {
      "cell_type": "code",
      "metadata": {
        "id": "HGS11QIghcVs"
      },
      "source": [
        "eval_set = test_recomm.join(test_pivot, on='user_id', how='inner')"
      ],
      "execution_count": null,
      "outputs": []
    },
    {
      "cell_type": "code",
      "metadata": {
        "colab": {
          "base_uri": "https://localhost:8080/"
        },
        "id": "tx26BmXrh2LW",
        "outputId": "27223afe-a26e-4197-ca05-c214136dd7bb"
      },
      "source": [
        "eval_set.show()"
      ],
      "execution_count": null,
      "outputs": [
        {
          "output_type": "stream",
          "text": [
            "+-------+--------------------+--------------------+--------------------+--------------------+--------------------+\n",
            "|user_id|     recommendations|  recommended_movies|          movie_list|        ratings_list|     id_ratings_list|\n",
            "+-------+--------------------+--------------------+--------------------+--------------------+--------------------+\n",
            "|    471|[{862, 5.117396},...|[862.0, 680.0, 34...|[1.0, 95.0, 393.0...|[4.0, 4.0, 5.0, 5...|[{1.0 -> 4.0}, {9...|\n",
            "|    463|[{1240, 4.529101}...|[1240.0, 1449.0, ...|[24.0, 50.0, 117....|[3.0, 4.0, 3.0, 5...|[{24.0 -> 3.0}, {...|\n",
            "|    833|[{1368, 5.0700154...|[1368.0, 1597.0, ...|[11.0, 22.0, 47.0...|[5.0, 3.0, 5.0, 3...|[{11.0 -> 5.0}, {...|\n",
            "|    496|[{695, 4.4890313}...|[695.0, 1449.0, 1...|[17.0, 88.0, 99.0...|[3.0, 1.0, 3.0, 5...|[{17.0 -> 3.0}, {...|\n",
            "|    148|[{1129, 5.558813}...|[1129.0, 1084.0, ...|[8.0, 56.0, 71.0,...|[4.0, 5.0, 5.0, 5...|[{8.0 -> 4.0}, {5...|\n",
            "|    540|[{1449, 5.127593}...|[1449.0, 1398.0, ...|[13.0, 147.0, 222...|[4.0, 3.0, 4.0, 3...|[{13.0 -> 4.0}, {...|\n",
            "|    392|[{1643, 5.569833}...|[1643.0, 1449.0, ...|[50.0, 129.0, 172...|[5.0, 4.0, 5.0, 4...|[{50.0 -> 5.0}, {...|\n",
            "|    243|[{1449, 4.6866884...|[1449.0, 1398.0, ...|[14.0, 26.0, 157....|[3.0, 3.0, 5.0, 4...|[{14.0 -> 3.0}, {...|\n",
            "|    623|[{1643, 4.537459}...|[1643.0, 496.0, 9...|[66.0, 88.0, 127....|[4.0, 4.0, 4.0, 5...|[{66.0 -> 4.0}, {...|\n",
            "|    737|[{1449, 4.958984}...|[1449.0, 1405.0, ...|[127.0, 192.0, 42...|[5.0, 5.0, 4.0, 5.0]|[{127.0 -> 5.0}, ...|\n",
            "|    897|[{1643, 5.494904}...|[1643.0, 64.0, 11...|[11.0, 23.0, 65.0...|[2.0, 3.0, 4.0, 5...|[{11.0 -> 2.0}, {...|\n",
            "|    858|[{320, 4.7722836}...|[320.0, 767.0, 15...|[100.0, 127.0, 32...|[3.0, 5.0, 3.0, 4.0]|[{100.0 -> 3.0}, ...|\n",
            "|     31|[{1524, 5.2511134...|[1524.0, 1367.0, ...|[153.0, 268.0, 27...|[4.0, 3.0, 4.0, 5...|[{153.0 -> 4.0}, ...|\n",
            "|    516|[{1449, 5.1921144...|[1449.0, 1628.0, ...|[194.0, 204.0, 25...|[4.0, 4.0, 4.0, 3...|[{194.0 -> 4.0}, ...|\n",
            "|    580|[{1268, 5.6815205...|[1268.0, 1410.0, ...|[1.0, 15.0, 222.0...|[3.0, 3.0, 3.0, 5...|[{1.0 -> 3.0}, {1...|\n",
            "|    251|[{1449, 4.889819}...|[1449.0, 1643.0, ...|[7.0, 12.0, 22.0,...|[3.0, 4.0, 5.0, 3...|[{7.0 -> 3.0}, {1...|\n",
            "|    451|[{850, 4.798083},...|[850.0, 914.0, 16...|[263.0, 266.0, 26...|[2.0, 2.0, 2.0, 1...|[{263.0 -> 2.0}, ...|\n",
            "|     85|[{1643, 4.7954707...|[1643.0, 1449.0, ...|[9.0, 23.0, 58.0,...|[4.0, 4.0, 4.0, 4...|[{9.0 -> 4.0}, {2...|\n",
            "|    137|[{1169, 5.6662703...|[1169.0, 1607.0, ...|[15.0, 183.0, 243...|[4.0, 5.0, 4.0, 4...|[{15.0 -> 4.0}, {...|\n",
            "|    808|[{1643, 6.0059047...|[1643.0, 1388.0, ...|[300.0, 302.0, 31...|[4.0, 5.0, 5.0, 4...|[{300.0 -> 4.0}, ...|\n",
            "+-------+--------------------+--------------------+--------------------+--------------------+--------------------+\n",
            "only showing top 20 rows\n",
            "\n"
          ],
          "name": "stdout"
        }
      ]
    },
    {
      "cell_type": "code",
      "metadata": {
        "id": "-v8anPZJihls"
      },
      "source": [
        "eval = RankingEvaluator(predictionCol='recommended_movies', labelCol='movie_list', metricName='meanAveragePrecision', k=k)"
      ],
      "execution_count": null,
      "outputs": []
    },
    {
      "cell_type": "code",
      "metadata": {
        "colab": {
          "base_uri": "https://localhost:8080/"
        },
        "id": "X8L-du9zihi4",
        "outputId": "e6e1dc78-a74d-45aa-a703-b1986dfe20cc"
      },
      "source": [
        "eval.evaluate(eval_set)"
      ],
      "execution_count": null,
      "outputs": [
        {
          "output_type": "execute_result",
          "data": {
            "text/plain": [
              "0.0014198488526438542"
            ]
          },
          "metadata": {
            "tags": []
          },
          "execution_count": 75
        }
      ]
    },
    {
      "cell_type": "code",
      "metadata": {
        "id": "Fe8xs__fihcS",
        "colab": {
          "base_uri": "https://localhost:8080/"
        },
        "outputId": "987be2a4-3d5b-4a68-f934-419aa12e0f00"
      },
      "source": [
        "!pip freeze"
      ],
      "execution_count": 76,
      "outputs": [
        {
          "output_type": "stream",
          "text": [
            "absl-py==0.12.0\n",
            "alabaster==0.7.12\n",
            "albumentations==0.1.12\n",
            "altair==4.1.0\n",
            "appdirs==1.4.4\n",
            "argon2-cffi==20.1.0\n",
            "astor==0.8.1\n",
            "astropy==4.2.1\n",
            "astunparse==1.6.3\n",
            "async-generator==1.10\n",
            "atari-py==0.2.6\n",
            "atomicwrites==1.4.0\n",
            "attrs==20.3.0\n",
            "audioread==2.1.9\n",
            "autograd==1.3\n",
            "Babel==2.9.0\n",
            "backcall==0.2.0\n",
            "beautifulsoup4==4.6.3\n",
            "bleach==3.3.0\n",
            "blis==0.4.1\n",
            "bokeh==2.3.1\n",
            "Bottleneck==1.3.2\n",
            "branca==0.4.2\n",
            "bs4==0.0.1\n",
            "CacheControl==0.12.6\n",
            "cachetools==4.2.1\n",
            "catalogue==1.0.0\n",
            "certifi==2020.12.5\n",
            "cffi==1.14.5\n",
            "chainer==7.4.0\n",
            "chardet==3.0.4\n",
            "click==7.1.2\n",
            "cloudpickle==1.3.0\n",
            "cmake==3.12.0\n",
            "cmdstanpy==0.9.5\n",
            "colorcet==2.0.6\n",
            "colorlover==0.3.0\n",
            "community==1.0.0b1\n",
            "contextlib2==0.5.5\n",
            "convertdate==2.3.2\n",
            "coverage==3.7.1\n",
            "coveralls==0.5\n",
            "crcmod==1.7\n",
            "cufflinks==0.17.3\n",
            "cvxopt==1.2.6\n",
            "cvxpy==1.0.31\n",
            "cycler==0.10.0\n",
            "cymem==2.0.5\n",
            "Cython==0.29.22\n",
            "daft==0.0.4\n",
            "dask==2.12.0\n",
            "datascience==0.10.6\n",
            "debugpy==1.0.0\n",
            "decorator==4.4.2\n",
            "defusedxml==0.7.1\n",
            "descartes==1.1.0\n",
            "dill==0.3.3\n",
            "distributed==1.25.3\n",
            "dlib==19.18.0\n",
            "dm-tree==0.1.6\n",
            "docopt==0.6.2\n",
            "docutils==0.17\n",
            "dopamine-rl==1.0.5\n",
            "earthengine-api==0.1.260\n",
            "easydict==1.9\n",
            "ecos==2.0.7.post1\n",
            "editdistance==0.5.3\n",
            "en-core-web-sm==2.2.5\n",
            "entrypoints==0.3\n",
            "ephem==3.7.7.1\n",
            "et-xmlfile==1.0.1\n",
            "fa2==0.3.5\n",
            "fancyimpute==0.4.3\n",
            "fastai==1.0.61\n",
            "fastdtw==0.3.4\n",
            "fastprogress==1.0.0\n",
            "fastrlock==0.6\n",
            "fbprophet==0.7.1\n",
            "feather-format==0.4.1\n",
            "filelock==3.0.12\n",
            "firebase-admin==4.4.0\n",
            "fix-yahoo-finance==0.0.22\n",
            "Flask==1.1.2\n",
            "flatbuffers==1.12\n",
            "folium==0.8.3\n",
            "future==0.16.0\n",
            "gast==0.3.3\n",
            "GDAL==2.2.2\n",
            "gdown==3.6.4\n",
            "gensim==3.6.0\n",
            "geographiclib==1.50\n",
            "geopy==1.17.0\n",
            "gin-config==0.4.0\n",
            "glob2==0.7\n",
            "google==2.0.3\n",
            "google-api-core==1.26.3\n",
            "google-api-python-client==1.12.8\n",
            "google-auth==1.28.1\n",
            "google-auth-httplib2==0.0.4\n",
            "google-auth-oauthlib==0.4.4\n",
            "google-cloud-bigquery==1.21.0\n",
            "google-cloud-bigquery-storage==1.1.0\n",
            "google-cloud-core==1.0.3\n",
            "google-cloud-datastore==1.8.0\n",
            "google-cloud-firestore==1.7.0\n",
            "google-cloud-language==1.2.0\n",
            "google-cloud-storage==1.18.1\n",
            "google-cloud-translate==1.5.0\n",
            "google-colab==1.0.0\n",
            "google-pasta==0.2.0\n",
            "google-resumable-media==0.4.1\n",
            "googleapis-common-protos==1.53.0\n",
            "googledrivedownloader==0.4\n",
            "graphviz==0.10.1\n",
            "greenlet==1.0.0\n",
            "grpcio==1.32.0\n",
            "gspread==3.0.1\n",
            "gspread-dataframe==3.0.8\n",
            "gym==0.17.3\n",
            "h5py==2.10.0\n",
            "HeapDict==1.0.1\n",
            "hijri-converter==2.1.1\n",
            "holidays==0.10.5.2\n",
            "holoviews==1.14.3\n",
            "html5lib==1.0.1\n",
            "httpimport==0.5.18\n",
            "httplib2==0.17.4\n",
            "httplib2shim==0.0.3\n",
            "humanize==0.5.1\n",
            "hyperopt==0.1.2\n",
            "ideep4py==2.0.0.post3\n",
            "idna==2.10\n",
            "imageio==2.4.1\n",
            "imagesize==1.2.0\n",
            "imbalanced-learn==0.4.3\n",
            "imblearn==0.0\n",
            "imgaug==0.2.9\n",
            "importlib-metadata==3.10.1\n",
            "importlib-resources==5.1.2\n",
            "imutils==0.5.4\n",
            "inflect==2.1.0\n",
            "iniconfig==1.1.1\n",
            "intel-openmp==2021.2.0\n",
            "intervaltree==2.1.0\n",
            "ipykernel==4.10.1\n",
            "ipython==5.5.0\n",
            "ipython-genutils==0.2.0\n",
            "ipython-sql==0.3.9\n",
            "ipywidgets==7.6.3\n",
            "itsdangerous==1.1.0\n",
            "jax==0.2.12\n",
            "jaxlib==0.1.65+cuda110\n",
            "jdcal==1.4.1\n",
            "jedi==0.18.0\n",
            "jieba==0.42.1\n",
            "Jinja2==2.11.3\n",
            "joblib==1.0.1\n",
            "jpeg4py==0.1.4\n",
            "jsonschema==2.6.0\n",
            "jupyter==1.0.0\n",
            "jupyter-client==5.3.5\n",
            "jupyter-console==5.2.0\n",
            "jupyter-core==4.7.1\n",
            "jupyterlab-pygments==0.1.2\n",
            "jupyterlab-widgets==1.0.0\n",
            "kaggle==1.5.12\n",
            "kapre==0.1.3.1\n",
            "Keras==2.4.3\n",
            "Keras-Preprocessing==1.1.2\n",
            "keras-vis==0.4.1\n",
            "kiwisolver==1.3.1\n",
            "knnimpute==0.1.0\n",
            "korean-lunar-calendar==0.2.1\n",
            "librosa==0.8.0\n",
            "lightgbm==2.2.3\n",
            "llvmlite==0.34.0\n",
            "lmdb==0.99\n",
            "LunarCalendar==0.0.9\n",
            "lxml==4.2.6\n",
            "Markdown==3.3.4\n",
            "MarkupSafe==1.1.1\n",
            "matplotlib==3.2.2\n",
            "matplotlib-venn==0.11.6\n",
            "missingno==0.4.2\n",
            "mistune==0.8.4\n",
            "mizani==0.6.0\n",
            "mkl==2019.0\n",
            "mlxtend==0.14.0\n",
            "more-itertools==8.7.0\n",
            "moviepy==0.2.3.5\n",
            "mpmath==1.2.1\n",
            "msgpack==1.0.2\n",
            "multiprocess==0.70.11.1\n",
            "multitasking==0.0.9\n",
            "murmurhash==1.0.5\n",
            "music21==5.5.0\n",
            "natsort==5.5.0\n",
            "nbclient==0.5.3\n",
            "nbconvert==5.6.1\n",
            "nbformat==5.1.3\n",
            "nest-asyncio==1.5.1\n",
            "networkx==2.5.1\n",
            "nibabel==3.0.2\n",
            "nltk==3.2.5\n",
            "notebook==5.3.1\n",
            "np-utils==0.5.12.1\n",
            "numba==0.51.2\n",
            "numexpr==2.7.3\n",
            "numpy==1.19.5\n",
            "nvidia-ml-py3==7.352.0\n",
            "oauth2client==4.1.3\n",
            "oauthlib==3.1.0\n",
            "okgrade==0.4.3\n",
            "opencv-contrib-python==4.1.2.30\n",
            "opencv-python==4.1.2.30\n",
            "openpyxl==2.5.9\n",
            "opt-einsum==3.3.0\n",
            "osqp==0.6.2.post0\n",
            "packaging==20.9\n",
            "palettable==3.3.0\n",
            "pandas==1.1.5\n",
            "pandas-datareader==0.9.0\n",
            "pandas-gbq==0.13.3\n",
            "pandas-profiling==1.4.1\n",
            "pandocfilters==1.4.3\n",
            "panel==0.11.2\n",
            "param==1.10.1\n",
            "parso==0.8.2\n",
            "pathlib==1.0.1\n",
            "patsy==0.5.1\n",
            "pexpect==4.8.0\n",
            "pickleshare==0.7.5\n",
            "Pillow==7.1.2\n",
            "pip-tools==4.5.1\n",
            "plac==1.1.3\n",
            "plotly==4.4.1\n",
            "plotnine==0.6.0\n",
            "pluggy==0.7.1\n",
            "pooch==1.3.0\n",
            "portpicker==1.3.1\n",
            "prefetch-generator==1.0.1\n",
            "preshed==3.0.5\n",
            "prettytable==2.1.0\n",
            "progressbar2==3.38.0\n",
            "prometheus-client==0.10.1\n",
            "promise==2.3\n",
            "prompt-toolkit==1.0.18\n",
            "protobuf==3.12.4\n",
            "psutil==5.4.8\n",
            "psycopg2==2.7.6.1\n",
            "ptyprocess==0.7.0\n",
            "py==1.10.0\n",
            "py4j==0.10.9\n",
            "pyarrow==3.0.0\n",
            "pyasn1==0.4.8\n",
            "pyasn1-modules==0.2.8\n",
            "pycocotools==2.0.2\n",
            "pycparser==2.20\n",
            "pyct==0.4.8\n",
            "pydata-google-auth==1.1.0\n",
            "pydot==1.3.0\n",
            "pydot-ng==2.0.0\n",
            "pydotplus==2.0.2\n",
            "PyDrive==1.3.1\n",
            "pyemd==0.5.1\n",
            "pyerfa==1.7.2\n",
            "pyglet==1.5.0\n",
            "Pygments==2.6.1\n",
            "pygobject==3.26.1\n",
            "pymc3==3.7\n",
            "PyMeeus==0.5.11\n",
            "pymongo==3.11.3\n",
            "pymystem3==0.2.0\n",
            "PyOpenGL==3.1.5\n",
            "pyparsing==2.4.7\n",
            "pyrsistent==0.17.3\n",
            "pysndfile==1.3.8\n",
            "PySocks==1.7.1\n",
            "pyspark==3.1.1\n",
            "pystan==2.19.1.1\n",
            "pytest==3.6.4\n",
            "python-apt==0.0.0\n",
            "python-chess==0.23.11\n",
            "python-dateutil==2.8.1\n",
            "python-louvain==0.15\n",
            "python-slugify==4.0.1\n",
            "python-utils==2.5.6\n",
            "pytz==2018.9\n",
            "pyviz-comms==2.0.1\n",
            "PyWavelets==1.1.1\n",
            "PyYAML==3.13\n",
            "pyzmq==22.0.3\n",
            "qdldl==0.1.5.post0\n",
            "qtconsole==5.0.3\n",
            "QtPy==1.9.0\n",
            "regex==2019.12.20\n",
            "requests==2.23.0\n",
            "requests-oauthlib==1.3.0\n",
            "resampy==0.2.2\n",
            "retrying==1.3.3\n",
            "rpy2==3.4.3\n",
            "rsa==4.7.2\n",
            "scikit-image==0.16.2\n",
            "scikit-learn==0.22.2.post1\n",
            "scipy==1.4.1\n",
            "screen-resolution-extra==0.0.0\n",
            "scs==2.1.3\n",
            "seaborn==0.11.1\n",
            "Send2Trash==1.5.0\n",
            "setuptools-git==1.2\n",
            "Shapely==1.7.1\n",
            "simplegeneric==0.8.1\n",
            "six==1.15.0\n",
            "sklearn==0.0\n",
            "sklearn-pandas==1.8.0\n",
            "smart-open==5.0.0\n",
            "snowballstemmer==2.1.0\n",
            "sortedcontainers==2.3.0\n",
            "SoundFile==0.10.3.post1\n",
            "spacy==2.2.4\n",
            "Sphinx==1.8.5\n",
            "sphinxcontrib-serializinghtml==1.1.4\n",
            "sphinxcontrib-websupport==1.2.4\n",
            "SQLAlchemy==1.4.7\n",
            "sqlparse==0.4.1\n",
            "srsly==1.0.5\n",
            "statsmodels==0.10.2\n",
            "sympy==1.7.1\n",
            "tables==3.4.4\n",
            "tabulate==0.8.9\n",
            "tblib==1.7.0\n",
            "tensorboard==2.4.1\n",
            "tensorboard-plugin-wit==1.8.0\n",
            "tensorflow==2.4.1\n",
            "tensorflow-datasets==4.0.1\n",
            "tensorflow-estimator==2.4.0\n",
            "tensorflow-gcs-config==2.4.0\n",
            "tensorflow-hub==0.12.0\n",
            "tensorflow-metadata==0.29.0\n",
            "tensorflow-probability==0.12.1\n",
            "termcolor==1.1.0\n",
            "terminado==0.9.4\n",
            "testpath==0.4.4\n",
            "text-unidecode==1.3\n",
            "textblob==0.15.3\n",
            "textgenrnn==1.4.1\n",
            "Theano==1.0.5\n",
            "thinc==7.4.0\n",
            "tifffile==2021.4.8\n",
            "toml==0.10.2\n",
            "toolz==0.11.1\n",
            "torch==1.8.1+cu101\n",
            "torchsummary==1.5.1\n",
            "torchtext==0.9.1\n",
            "torchvision==0.9.1+cu101\n",
            "tornado==5.1.1\n",
            "tqdm==4.41.1\n",
            "traitlets==5.0.5\n",
            "tweepy==3.10.0\n",
            "typeguard==2.7.1\n",
            "typing-extensions==3.7.4.3\n",
            "tzlocal==1.5.1\n",
            "uritemplate==3.0.1\n",
            "urllib3==1.24.3\n",
            "vega-datasets==0.9.0\n",
            "wasabi==0.8.2\n",
            "wcwidth==0.2.5\n",
            "webencodings==0.5.1\n",
            "Werkzeug==1.0.1\n",
            "widgetsnbextension==3.5.1\n",
            "wordcloud==1.5.0\n",
            "wrapt==1.12.1\n",
            "xarray==0.15.1\n",
            "xgboost==0.90\n",
            "xkit==0.0.0\n",
            "xlrd==1.1.0\n",
            "xlwt==1.3.0\n",
            "yellowbrick==0.9.1\n",
            "zict==2.0.0\n",
            "zipp==3.4.1\n"
          ],
          "name": "stdout"
        }
      ]
    },
    {
      "cell_type": "code",
      "metadata": {
        "id": "t2q59p1gnnOs"
      },
      "source": [
        ""
      ],
      "execution_count": null,
      "outputs": []
    }
  ]
}