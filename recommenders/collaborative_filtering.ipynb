{
  "nbformat": 4,
  "nbformat_minor": 0,
  "metadata": {
    "colab": {
      "name": "collaborative_filtering.ipynb",
      "provenance": [],
      "collapsed_sections": [],
      "authorship_tag": "ABX9TyNWWG94Z3pTzttTaUP5Ncyy",
      "include_colab_link": true
    },
    "kernelspec": {
      "name": "python3",
      "display_name": "Python 3"
    },
    "language_info": {
      "name": "python"
    }
  },
  "cells": [
    {
      "cell_type": "markdown",
      "metadata": {
        "id": "view-in-github",
        "colab_type": "text"
      },
      "source": [
        "<a href=\"https://colab.research.google.com/github/rossrco/experiments/blob/recommenders/recommenders/collaborative_filtering.ipynb\" target=\"_parent\"><img src=\"https://colab.research.google.com/assets/colab-badge.svg\" alt=\"Open In Colab\"/></a>"
      ]
    },
    {
      "cell_type": "code",
      "metadata": {
        "colab": {
          "base_uri": "https://localhost:8080/"
        },
        "id": "cUE9UGLylrLS",
        "outputId": "20472ebb-52ce-4596-db57-d648e9aa5eb0"
      },
      "source": [
        "!pip install pyspark"
      ],
      "execution_count": 1,
      "outputs": [
        {
          "output_type": "stream",
          "text": [
            "Collecting pyspark\n",
            "\u001b[?25l  Downloading https://files.pythonhosted.org/packages/45/b0/9d6860891ab14a39d4bddf80ba26ce51c2f9dc4805e5c6978ac0472c120a/pyspark-3.1.1.tar.gz (212.3MB)\n",
            "\u001b[K     |████████████████████████████████| 212.3MB 70kB/s \n",
            "\u001b[?25hCollecting py4j==0.10.9\n",
            "\u001b[?25l  Downloading https://files.pythonhosted.org/packages/9e/b6/6a4fb90cd235dc8e265a6a2067f2a2c99f0d91787f06aca4bcf7c23f3f80/py4j-0.10.9-py2.py3-none-any.whl (198kB)\n",
            "\u001b[K     |████████████████████████████████| 204kB 38.1MB/s \n",
            "\u001b[?25hBuilding wheels for collected packages: pyspark\n",
            "  Building wheel for pyspark (setup.py) ... \u001b[?25l\u001b[?25hdone\n",
            "  Created wheel for pyspark: filename=pyspark-3.1.1-py2.py3-none-any.whl size=212767604 sha256=6ae31e98754cd081333641caeeeb2e7708ceab09d40826c007fbfa96af9a89f1\n",
            "  Stored in directory: /root/.cache/pip/wheels/0b/90/c0/01de724414ef122bd05f056541fb6a0ecf47c7ca655f8b3c0f\n",
            "Successfully built pyspark\n",
            "Installing collected packages: py4j, pyspark\n",
            "Successfully installed py4j-0.10.9 pyspark-3.1.1\n"
          ],
          "name": "stdout"
        }
      ]
    },
    {
      "cell_type": "code",
      "metadata": {
        "id": "f4lLL4b3mFqy"
      },
      "source": [
        "from pyspark.sql import SparkSession\n",
        "from pyspark.sql import types as T\n",
        "from pyspark.sql import functions as F\n",
        "from pyspark.ml.recommendation import ALS\n",
        "from pyspark.ml.evaluation import RankingEvaluator\n",
        "\n",
        "spark = SparkSession.builder.master('local[*]').getOrCreate()"
      ],
      "execution_count": 2,
      "outputs": []
    },
    {
      "cell_type": "code",
      "metadata": {
        "id": "SjgaQ_9umI2j"
      },
      "source": [
        "def download_dataset():\n",
        "  print('Downloading movielens data...')\n",
        "  from urllib.request import urlretrieve\n",
        "  import zipfile\n",
        "\n",
        "  url = 'http://files.grouplens.org/datasets/movielens/ml-100k.zip'\n",
        "  dest_file = 'movielens.zip'\n",
        "\n",
        "  urlretrieve(url, dest_file)\n",
        "  zip_ref = zipfile.ZipFile(dest_file, 'r')\n",
        "  zip_ref.extractall()\n",
        "  print('Done. Dataset contains:')\n",
        "  print(zip_ref.read('ml-100k/u.info'))\n",
        "\n",
        "\n",
        "def read_ratings():\n",
        "  print('Reading the ratings file...')\n",
        "  ratings_schema = T.StructType(\n",
        "      [T.StructField('user_id', T.DoubleType(), False),\n",
        "       T.StructField('movie_id', T.DoubleType(), True),\n",
        "       T.StructField('rating', T.DoubleType(), True),\n",
        "       T.StructField('unix_timestamp', T.LongType(), True)]\n",
        "       )\n",
        "\n",
        "  ratings = (spark.read\n",
        "             .load('ml-100k/u.data', format='csv', sep='\\t',\n",
        "                   header='false', schema=ratings_schema)\n",
        "             .withColumn('unix_timestamp',\n",
        "                         F.to_timestamp(F.col('unix_timestamp'))))\n",
        "\n",
        "  print(f'Ingested {ratings.count()} ratings.')\n",
        "  return ratings"
      ],
      "execution_count": 3,
      "outputs": []
    },
    {
      "cell_type": "code",
      "metadata": {
        "colab": {
          "base_uri": "https://localhost:8080/"
        },
        "id": "Al_P-31TmMD-",
        "outputId": "7a3d9ce7-5238-47c7-c832-c8970df06b78"
      },
      "source": [
        "download_dataset()\n",
        "\n",
        "ratings = read_ratings()"
      ],
      "execution_count": 4,
      "outputs": [
        {
          "output_type": "stream",
          "text": [
            "Downloading movielens data...\n",
            "Done. Dataset contains:\n",
            "b'943 users\\n1682 items\\n100000 ratings\\n'\n",
            "Reading the ratings file...\n",
            "Ingested 100000 ratings.\n"
          ],
          "name": "stdout"
        }
      ]
    },
    {
      "cell_type": "code",
      "metadata": {
        "colab": {
          "base_uri": "https://localhost:8080/"
        },
        "id": "TDK1dQotmjmg",
        "outputId": "139e219c-97f2-4d8d-ba60-6aa5d9a84230"
      },
      "source": [
        "ratings.show()"
      ],
      "execution_count": 5,
      "outputs": [
        {
          "output_type": "stream",
          "text": [
            "+-------+--------+------+-------------------+\n",
            "|user_id|movie_id|rating|     unix_timestamp|\n",
            "+-------+--------+------+-------------------+\n",
            "|  196.0|   242.0|   3.0|1997-12-04 15:55:49|\n",
            "|  186.0|   302.0|   3.0|1998-04-04 19:22:22|\n",
            "|   22.0|   377.0|   1.0|1997-11-07 07:18:36|\n",
            "|  244.0|    51.0|   2.0|1997-11-27 05:02:03|\n",
            "|  166.0|   346.0|   1.0|1998-02-02 05:33:16|\n",
            "|  298.0|   474.0|   4.0|1998-01-07 14:20:06|\n",
            "|  115.0|   265.0|   2.0|1997-12-03 17:51:28|\n",
            "|  253.0|   465.0|   5.0|1998-04-03 18:34:27|\n",
            "|  305.0|   451.0|   3.0|1998-02-01 09:20:17|\n",
            "|    6.0|    86.0|   3.0|1997-12-31 21:16:53|\n",
            "|   62.0|   257.0|   2.0|1997-11-12 22:07:14|\n",
            "|  286.0|  1014.0|   5.0|1997-11-17 15:38:45|\n",
            "|  200.0|   222.0|   5.0|1997-10-05 09:05:40|\n",
            "|  210.0|    40.0|   3.0|1998-03-27 21:59:54|\n",
            "|  224.0|    29.0|   3.0|1998-02-21 23:40:57|\n",
            "|  303.0|   785.0|   3.0|1997-11-14 05:28:38|\n",
            "|  122.0|   387.0|   5.0|1997-11-11 17:47:39|\n",
            "|  194.0|   274.0|   2.0|1997-11-14 20:36:34|\n",
            "|  291.0|  1042.0|   4.0|1997-09-21 09:42:24|\n",
            "|  234.0|  1184.0|   2.0|1998-04-08 23:47:17|\n",
            "+-------+--------+------+-------------------+\n",
            "only showing top 20 rows\n",
            "\n"
          ],
          "name": "stdout"
        }
      ]
    },
    {
      "cell_type": "code",
      "metadata": {
        "id": "L55sBDEVmmOI"
      },
      "source": [
        "train, test = ratings.randomSplit(weights=[0.8, 0.2], seed=42)"
      ],
      "execution_count": 6,
      "outputs": []
    },
    {
      "cell_type": "code",
      "metadata": {
        "id": "Cbb-lW3ymqTl"
      },
      "source": [
        "model = ALS(userCol='user_id', itemCol='movie_id', ratingCol='rating').fit(train)"
      ],
      "execution_count": 8,
      "outputs": []
    },
    {
      "cell_type": "code",
      "metadata": {
        "colab": {
          "base_uri": "https://localhost:8080/"
        },
        "id": "MwUDS7VJmsoS",
        "outputId": "ab73aeb7-1a9e-483d-bdbe-81327bc327fa"
      },
      "source": [
        "k = 3\n",
        "test_recomm = model.recommendForUserSubset(dataset=test, numItems=k)\n",
        "test_recomm.show(truncate=False)"
      ],
      "execution_count": 9,
      "outputs": [
        {
          "output_type": "stream",
          "text": [
            "+-------+---------------------------------------------------------+\n",
            "|user_id|recommendations                                          |\n",
            "+-------+---------------------------------------------------------+\n",
            "|471    |[{266, 5.074799}, {680, 5.0551834}, {309, 4.8210654}]    |\n",
            "|463    |[{1591, 4.727555}, {1062, 4.349219}, {1449, 4.2445273}]  |\n",
            "|833    |[{1368, 5.0188975}, {1643, 4.883041}, {1597, 4.7060757}] |\n",
            "|496    |[{1591, 5.084086}, {253, 4.5795393}, {475, 4.501776}]    |\n",
            "|148    |[{1129, 5.4802837}, {408, 5.0231385}, {114, 4.9768257}]  |\n",
            "|540    |[{1449, 4.997586}, {1643, 4.744245}, {1398, 4.713765}]   |\n",
            "|392    |[{1643, 5.7083597}, {119, 5.063157}, {1449, 5.056046}]   |\n",
            "|243    |[{1449, 4.605709}, {1398, 4.428873}, {1643, 4.3661985}]  |\n",
            "|623    |[{1643, 4.760572}, {694, 4.6491685}, {496, 4.5237613}]   |\n",
            "|737    |[{1591, 5.588254}, {1512, 5.0285597}, {1449, 5.002753}]  |\n",
            "|897    |[{1643, 5.496185}, {1169, 4.922133}, {313, 4.858496}]    |\n",
            "|858    |[{853, 4.5270243}, {1473, 4.4608526}, {534, 4.4114685}]  |\n",
            "|31     |[{1643, 5.1338286}, {793, 4.959002}, {1524, 4.9183965}]  |\n",
            "|516    |[{1591, 5.4264817}, {1449, 5.3131714}, {1062, 5.0831122}]|\n",
            "|580    |[{838, 5.1304297}, {817, 4.885271}, {250, 4.8356285}]    |\n",
            "|251    |[{1643, 5.136209}, {64, 4.7287173}, {1449, 4.724694}]    |\n",
            "|451    |[{1005, 5.02095}, {914, 4.809522}, {817, 4.6822515}]     |\n",
            "|85     |[{1643, 4.8821683}, {1449, 4.402637}, {1398, 4.3478456}] |\n",
            "|137    |[{1643, 5.7714515}, {1019, 5.742552}, {1169, 5.472493}]  |\n",
            "|808    |[{1591, 6.18854}, {1449, 5.471332}, {169, 5.3336735}]    |\n",
            "+-------+---------------------------------------------------------+\n",
            "only showing top 20 rows\n",
            "\n"
          ],
          "name": "stdout"
        }
      ]
    },
    {
      "cell_type": "code",
      "metadata": {
        "id": "wKmETWvIm3pV"
      },
      "source": [
        ""
      ],
      "execution_count": null,
      "outputs": []
    }
  ]
}